{
  "cells": [
    {
      "cell_type": "markdown",
      "id": "41196da1-2198-44a5-b93f-9bb8335bcf15",
      "metadata": {
        "tags": [],
        "id": "41196da1-2198-44a5-b93f-9bb8335bcf15"
      },
      "source": [
        "# 쇼핑 고객 상담 대화 문장 의도 태깅\n",
        "\n",
        "- 2차 모의경진대회(22.11.28 ~ 22.12.25)\n",
        "- Text Classification 과제"
      ]
    },
    {
      "cell_type": "markdown",
      "source": [
        "## 디렉터리 구조\n",
        "```\n",
        "$ Shopping/\n",
        "├── DATA/\n",
        "│    ├── train/\n",
        "│    │    ├── texts/\n",
        "│    │    │    ├── shopping1_0001.txt\n",
        "│    │    │    ├── ...\n",
        "│    │    │    └── shopping7_2536.txt\n",
        "│    │    └── labels/\n",
        "│    │          ├── shopping1_0001.json\n",
        "│    │          ├── ...\n",
        "│    │          └── shopping7_2536.json\n",
        "│    ├── test/\n",
        "│    │    └── texts/\n",
        "│    │          ├── test_0001.txt\n",
        "│    │          ├── ...\n",
        "│    │          └── test_1456.txt\n",
        "│    └── sample_submission.csv\n",
        "│\n",
        "└── baseline/\n",
        "      ├── config/\n",
        "      │    ├── train.yaml\n",
        "      │    └── predict.yaml\n",
        "      │── modules/\n",
        "      │    ├── earlystopper.py\n",
        "      │    ├── losses.py\n",
        "      │    ├── recorders.py\n",
        "      │    └── utils.py\n",
        "      ├── results/\n",
        "      │    └── train/\n",
        "      ├── wandb/ # wandb 최초 사용 후 생성\n",
        "      ├── baseline_shopping.ipynb\n",
        "      └── submission.csv (코드 실행 후 생성되는 추론 파일)\n",
        "\n",
        "```\n",
        "    - config : 학습/추론에 필요한 파라미터 등을 기록하는 yaml 파일\n",
        "    - modules\n",
        "        - earlystopper.py : loss가 특정 에폭 이상 개선되지 않을 경우 학습을 멈춤\n",
        "        - losses.py : config에서 지정한 loss function을 리턴\n",
        "        - recorders.py : log, learning curve, best model.pt 등을 기록\n",
        "        - utils.py : 여러 확장자 파일을 불러오거나 여러 확장자로 저장하는 등의 함수\n",
        "    - results\n",
        "      - train/ : 학습 log, 추론 log를 기록하는 디렉토리\n",
        "    - baseline_shopping.ipynb : 전처리부터 학습, 추론까지 수행할 코드 \n",
        "\n",
        "## 노트북 실행 요령\n",
        "- 해당 베이스라인 코드는 [Wandb](https://wandb.ai/site) 를 활용한 실험 관리가 가능합니다.\n",
        "- 해당 베이스라인 코드 실행 전 `config/train.yaml`을 수정하세요.\n",
        "- 해당 베이스라인 코드의 추론 실행 전 `config/predict.yaml`을 수정하세요.\n",
        "- 학습 결과는 `results/train/train_serial` 에 저장되며, wandb를 통해 학습 그래프를 확인하실 수 있습니다."
      ],
      "metadata": {
        "id": "8pgSg-Imnq3x"
      },
      "id": "8pgSg-Imnq3x"
    },
    {
      "cell_type": "markdown",
      "source": [
        "#0. 사전 준비"
      ],
      "metadata": {
        "id": "9v-ms2L0KK0M"
      },
      "id": "9v-ms2L0KK0M"
    },
    {
      "cell_type": "markdown",
      "source": [
        "### 구글 드라이브 마운트"
      ],
      "metadata": {
        "id": "wa9Mx1ZMKPkv"
      },
      "id": "wa9Mx1ZMKPkv"
    },
    {
      "cell_type": "code",
      "source": [
        "# 구글 Colaboratory 를 사용하기 위해 구글 계정으로 로그인합니다. \n",
        "from google.colab import drive\n",
        "drive.mount('/content/drive')"
      ],
      "metadata": {
        "colab": {
          "base_uri": "https://localhost:8080/"
        },
        "id": "4wdxa3N8NO3A",
        "outputId": "a2ccbb54-9cd5-48d0-cc87-ade9f18f459e"
      },
      "id": "4wdxa3N8NO3A",
      "execution_count": 1,
      "outputs": [
        {
          "output_type": "stream",
          "name": "stdout",
          "text": [
            "Mounted at /content/drive\n"
          ]
        }
      ]
    },
    {
      "cell_type": "code",
      "source": [
        "import os\n",
        "os.chdir('/content/drive/MyDrive/Shopping/')"
      ],
      "metadata": {
        "id": "-MEzQP3GPrDd"
      },
      "id": "-MEzQP3GPrDd",
      "execution_count": null,
      "outputs": []
    },
    {
      "cell_type": "markdown",
      "id": "f186a6a3-e5e4-41a4-bb3e-89c64aa01910",
      "metadata": {
        "id": "f186a6a3-e5e4-41a4-bb3e-89c64aa01910"
      },
      "source": [
        "### 라이브러리 설치"
      ]
    },
    {
      "cell_type": "code",
      "execution_count": null,
      "id": "42f536b6-3347-4252-a704-607de720c21e",
      "metadata": {
        "execution": {
          "iopub.execute_input": "2022-10-21T01:54:52.348288Z",
          "iopub.status.busy": "2022-10-21T01:54:52.346724Z",
          "iopub.status.idle": "2022-10-21T01:54:52.356280Z",
          "shell.execute_reply": "2022-10-21T01:54:52.354486Z",
          "shell.execute_reply.started": "2022-10-21T01:54:52.348124Z"
        },
        "tags": [],
        "colab": {
          "base_uri": "https://localhost:8080/",
          "height": 1000
        },
        "id": "42f536b6-3347-4252-a704-607de720c21e",
        "outputId": "b0808648-d699-4961-9710-39589e60e6d5"
      },
      "outputs": [
        {
          "output_type": "stream",
          "name": "stdout",
          "text": [
            "Looking in indexes: https://pypi.org/simple, https://us-python.pkg.dev/colab-wheels/public/simple/\n",
            "Collecting transformers\n",
            "  Downloading transformers-4.24.0-py3-none-any.whl (5.5 MB)\n",
            "\u001b[K     |████████████████████████████████| 5.5 MB 4.8 MB/s \n",
            "\u001b[?25hRequirement already satisfied: filelock in /usr/local/lib/python3.7/dist-packages (from transformers) (3.8.0)\n",
            "Requirement already satisfied: packaging>=20.0 in /usr/local/lib/python3.7/dist-packages (from transformers) (21.3)\n",
            "Collecting tokenizers!=0.11.3,<0.14,>=0.11.1\n",
            "  Downloading tokenizers-0.13.2-cp37-cp37m-manylinux_2_17_x86_64.manylinux2014_x86_64.whl (7.6 MB)\n",
            "\u001b[K     |████████████████████████████████| 7.6 MB 71.0 MB/s \n",
            "\u001b[?25hRequirement already satisfied: importlib-metadata in /usr/local/lib/python3.7/dist-packages (from transformers) (4.13.0)\n",
            "Requirement already satisfied: regex!=2019.12.17 in /usr/local/lib/python3.7/dist-packages (from transformers) (2022.6.2)\n",
            "Requirement already satisfied: tqdm>=4.27 in /usr/local/lib/python3.7/dist-packages (from transformers) (4.64.1)\n",
            "Requirement already satisfied: requests in /usr/local/lib/python3.7/dist-packages (from transformers) (2.23.0)\n",
            "Requirement already satisfied: numpy>=1.17 in /usr/local/lib/python3.7/dist-packages (from transformers) (1.21.6)\n",
            "Collecting huggingface-hub<1.0,>=0.10.0\n",
            "  Downloading huggingface_hub-0.11.0-py3-none-any.whl (182 kB)\n",
            "\u001b[K     |████████████████████████████████| 182 kB 88.5 MB/s \n",
            "\u001b[?25hRequirement already satisfied: pyyaml>=5.1 in /usr/local/lib/python3.7/dist-packages (from transformers) (6.0)\n",
            "Requirement already satisfied: typing-extensions>=3.7.4.3 in /usr/local/lib/python3.7/dist-packages (from huggingface-hub<1.0,>=0.10.0->transformers) (4.1.1)\n",
            "Requirement already satisfied: pyparsing!=3.0.5,>=2.0.2 in /usr/local/lib/python3.7/dist-packages (from packaging>=20.0->transformers) (3.0.9)\n",
            "Requirement already satisfied: zipp>=0.5 in /usr/local/lib/python3.7/dist-packages (from importlib-metadata->transformers) (3.10.0)\n",
            "Requirement already satisfied: chardet<4,>=3.0.2 in /usr/local/lib/python3.7/dist-packages (from requests->transformers) (3.0.4)\n",
            "Requirement already satisfied: urllib3!=1.25.0,!=1.25.1,<1.26,>=1.21.1 in /usr/local/lib/python3.7/dist-packages (from requests->transformers) (1.24.3)\n",
            "Requirement already satisfied: certifi>=2017.4.17 in /usr/local/lib/python3.7/dist-packages (from requests->transformers) (2022.9.24)\n",
            "Requirement already satisfied: idna<3,>=2.5 in /usr/local/lib/python3.7/dist-packages (from requests->transformers) (2.10)\n",
            "Installing collected packages: tokenizers, huggingface-hub, transformers\n",
            "Successfully installed huggingface-hub-0.11.0 tokenizers-0.13.2 transformers-4.24.0\n",
            "Looking in indexes: https://pypi.org/simple, https://us-python.pkg.dev/colab-wheels/public/simple/\n",
            "Collecting evaluate\n",
            "  Downloading evaluate-0.3.0-py3-none-any.whl (72 kB)\n",
            "\u001b[K     |████████████████████████████████| 72 kB 981 kB/s \n",
            "\u001b[?25hCollecting multiprocess\n",
            "  Downloading multiprocess-0.70.14-py37-none-any.whl (115 kB)\n",
            "\u001b[K     |████████████████████████████████| 115 kB 24.9 MB/s \n",
            "\u001b[?25hRequirement already satisfied: tqdm>=4.62.1 in /usr/local/lib/python3.7/dist-packages (from evaluate) (4.64.1)\n",
            "Requirement already satisfied: fsspec[http]>=2021.05.0 in /usr/local/lib/python3.7/dist-packages (from evaluate) (2022.11.0)\n",
            "Requirement already satisfied: importlib-metadata in /usr/local/lib/python3.7/dist-packages (from evaluate) (4.13.0)\n",
            "Requirement already satisfied: requests>=2.19.0 in /usr/local/lib/python3.7/dist-packages (from evaluate) (2.23.0)\n",
            "Requirement already satisfied: dill in /usr/local/lib/python3.7/dist-packages (from evaluate) (0.3.6)\n",
            "Collecting responses<0.19\n",
            "  Downloading responses-0.18.0-py3-none-any.whl (38 kB)\n",
            "Requirement already satisfied: huggingface-hub>=0.7.0 in /usr/local/lib/python3.7/dist-packages (from evaluate) (0.11.0)\n",
            "Collecting xxhash\n",
            "  Downloading xxhash-3.1.0-cp37-cp37m-manylinux_2_17_x86_64.manylinux2014_x86_64.whl (212 kB)\n",
            "\u001b[K     |████████████████████████████████| 212 kB 53.2 MB/s \n",
            "\u001b[?25hRequirement already satisfied: packaging in /usr/local/lib/python3.7/dist-packages (from evaluate) (21.3)\n",
            "Requirement already satisfied: pandas in /usr/local/lib/python3.7/dist-packages (from evaluate) (1.3.5)\n",
            "Collecting datasets>=2.0.0\n",
            "  Downloading datasets-2.7.1-py3-none-any.whl (451 kB)\n",
            "\u001b[K     |████████████████████████████████| 451 kB 85.5 MB/s \n",
            "\u001b[?25hRequirement already satisfied: numpy>=1.17 in /usr/local/lib/python3.7/dist-packages (from evaluate) (1.21.6)\n",
            "Requirement already satisfied: pyyaml>=5.1 in /usr/local/lib/python3.7/dist-packages (from datasets>=2.0.0->evaluate) (6.0)\n",
            "Requirement already satisfied: aiohttp in /usr/local/lib/python3.7/dist-packages (from datasets>=2.0.0->evaluate) (3.8.3)\n",
            "Requirement already satisfied: pyarrow>=6.0.0 in /usr/local/lib/python3.7/dist-packages (from datasets>=2.0.0->evaluate) (9.0.0)\n",
            "Requirement already satisfied: asynctest==0.13.0 in /usr/local/lib/python3.7/dist-packages (from aiohttp->datasets>=2.0.0->evaluate) (0.13.0)\n",
            "Requirement already satisfied: async-timeout<5.0,>=4.0.0a3 in /usr/local/lib/python3.7/dist-packages (from aiohttp->datasets>=2.0.0->evaluate) (4.0.2)\n",
            "Requirement already satisfied: typing-extensions>=3.7.4 in /usr/local/lib/python3.7/dist-packages (from aiohttp->datasets>=2.0.0->evaluate) (4.1.1)\n",
            "Requirement already satisfied: aiosignal>=1.1.2 in /usr/local/lib/python3.7/dist-packages (from aiohttp->datasets>=2.0.0->evaluate) (1.3.1)\n",
            "Requirement already satisfied: multidict<7.0,>=4.5 in /usr/local/lib/python3.7/dist-packages (from aiohttp->datasets>=2.0.0->evaluate) (6.0.2)\n",
            "Requirement already satisfied: charset-normalizer<3.0,>=2.0 in /usr/local/lib/python3.7/dist-packages (from aiohttp->datasets>=2.0.0->evaluate) (2.1.1)\n",
            "Requirement already satisfied: frozenlist>=1.1.1 in /usr/local/lib/python3.7/dist-packages (from aiohttp->datasets>=2.0.0->evaluate) (1.3.3)\n",
            "Requirement already satisfied: attrs>=17.3.0 in /usr/local/lib/python3.7/dist-packages (from aiohttp->datasets>=2.0.0->evaluate) (22.1.0)\n",
            "Requirement already satisfied: yarl<2.0,>=1.0 in /usr/local/lib/python3.7/dist-packages (from aiohttp->datasets>=2.0.0->evaluate) (1.8.1)\n",
            "Requirement already satisfied: filelock in /usr/local/lib/python3.7/dist-packages (from huggingface-hub>=0.7.0->evaluate) (3.8.0)\n",
            "Requirement already satisfied: pyparsing!=3.0.5,>=2.0.2 in /usr/local/lib/python3.7/dist-packages (from packaging->evaluate) (3.0.9)\n",
            "Requirement already satisfied: certifi>=2017.4.17 in /usr/local/lib/python3.7/dist-packages (from requests>=2.19.0->evaluate) (2022.9.24)\n",
            "Requirement already satisfied: urllib3!=1.25.0,!=1.25.1,<1.26,>=1.21.1 in /usr/local/lib/python3.7/dist-packages (from requests>=2.19.0->evaluate) (1.24.3)\n",
            "Requirement already satisfied: chardet<4,>=3.0.2 in /usr/local/lib/python3.7/dist-packages (from requests>=2.19.0->evaluate) (3.0.4)\n",
            "Requirement already satisfied: idna<3,>=2.5 in /usr/local/lib/python3.7/dist-packages (from requests>=2.19.0->evaluate) (2.10)\n",
            "Collecting urllib3!=1.25.0,!=1.25.1,<1.26,>=1.21.1\n",
            "  Downloading urllib3-1.25.11-py2.py3-none-any.whl (127 kB)\n",
            "\u001b[K     |████████████████████████████████| 127 kB 88.8 MB/s \n",
            "\u001b[?25hRequirement already satisfied: zipp>=0.5 in /usr/local/lib/python3.7/dist-packages (from importlib-metadata->evaluate) (3.10.0)\n",
            "Requirement already satisfied: python-dateutil>=2.7.3 in /usr/local/lib/python3.7/dist-packages (from pandas->evaluate) (2.8.2)\n",
            "Requirement already satisfied: pytz>=2017.3 in /usr/local/lib/python3.7/dist-packages (from pandas->evaluate) (2022.6)\n",
            "Requirement already satisfied: six>=1.5 in /usr/local/lib/python3.7/dist-packages (from python-dateutil>=2.7.3->pandas->evaluate) (1.15.0)\n",
            "Installing collected packages: urllib3, xxhash, responses, multiprocess, datasets, evaluate\n",
            "  Attempting uninstall: urllib3\n",
            "    Found existing installation: urllib3 1.24.3\n",
            "    Uninstalling urllib3-1.24.3:\n",
            "      Successfully uninstalled urllib3-1.24.3\n",
            "Successfully installed datasets-2.7.1 evaluate-0.3.0 multiprocess-0.70.14 responses-0.18.0 urllib3-1.25.11 xxhash-3.1.0\n",
            "Looking in indexes: https://pypi.org/simple, https://us-python.pkg.dev/colab-wheels/public/simple/\n",
            "Collecting omegaconf\n",
            "  Downloading omegaconf-2.2.3-py3-none-any.whl (79 kB)\n",
            "\u001b[K     |████████████████████████████████| 79 kB 3.7 MB/s \n",
            "\u001b[?25hCollecting antlr4-python3-runtime==4.9.*\n",
            "  Downloading antlr4-python3-runtime-4.9.3.tar.gz (117 kB)\n",
            "\u001b[K     |████████████████████████████████| 117 kB 24.5 MB/s \n",
            "\u001b[?25hRequirement already satisfied: PyYAML>=5.1.0 in /usr/local/lib/python3.7/dist-packages (from omegaconf) (6.0)\n",
            "Building wheels for collected packages: antlr4-python3-runtime\n",
            "  Building wheel for antlr4-python3-runtime (setup.py) ... \u001b[?25l\u001b[?25hdone\n",
            "  Created wheel for antlr4-python3-runtime: filename=antlr4_python3_runtime-4.9.3-py3-none-any.whl size=144575 sha256=712509f3da86e48be52d289fb14b5c1f4540f19392f29766857cc782b79aaa3b\n",
            "  Stored in directory: /root/.cache/pip/wheels/8b/8d/53/2af8772d9aec614e3fc65e53d4a993ad73c61daa8bbd85a873\n",
            "Successfully built antlr4-python3-runtime\n",
            "Installing collected packages: antlr4-python3-runtime, omegaconf\n",
            "Successfully installed antlr4-python3-runtime-4.9.3 omegaconf-2.2.3\n"
          ]
        },
        {
          "output_type": "display_data",
          "data": {
            "application/vnd.colab-display-data+json": {
              "pip_warning": {
                "packages": [
                  "pydevd_plugins"
                ]
              }
            }
          },
          "metadata": {}
        },
        {
          "output_type": "stream",
          "name": "stdout",
          "text": [
            "Looking in indexes: https://pypi.org/simple, https://us-python.pkg.dev/colab-wheels/public/simple/\n",
            "Collecting wandb\n",
            "  Downloading wandb-0.13.5-py2.py3-none-any.whl (1.9 MB)\n",
            "\u001b[K     |████████████████████████████████| 1.9 MB 4.9 MB/s \n",
            "\u001b[?25hRequirement already satisfied: promise<3,>=2.0 in /usr/local/lib/python3.7/dist-packages (from wandb) (2.3)\n",
            "Requirement already satisfied: requests<3,>=2.0.0 in /usr/local/lib/python3.7/dist-packages (from wandb) (2.23.0)\n",
            "Collecting sentry-sdk>=1.0.0\n",
            "  Downloading sentry_sdk-1.11.1-py2.py3-none-any.whl (168 kB)\n",
            "\u001b[K     |████████████████████████████████| 168 kB 84.2 MB/s \n",
            "\u001b[?25hRequirement already satisfied: Click!=8.0.0,>=7.0 in /usr/local/lib/python3.7/dist-packages (from wandb) (7.1.2)\n",
            "Collecting docker-pycreds>=0.4.0\n",
            "  Downloading docker_pycreds-0.4.0-py2.py3-none-any.whl (9.0 kB)\n",
            "Collecting GitPython>=1.0.0\n",
            "  Downloading GitPython-3.1.29-py3-none-any.whl (182 kB)\n",
            "\u001b[K     |████████████████████████████████| 182 kB 85.1 MB/s \n",
            "\u001b[?25hCollecting shortuuid>=0.5.0\n",
            "  Downloading shortuuid-1.0.11-py3-none-any.whl (10 kB)\n",
            "Requirement already satisfied: psutil>=5.0.0 in /usr/local/lib/python3.7/dist-packages (from wandb) (5.4.8)\n",
            "Requirement already satisfied: PyYAML in /usr/local/lib/python3.7/dist-packages (from wandb) (6.0)\n",
            "Requirement already satisfied: six>=1.13.0 in /usr/local/lib/python3.7/dist-packages (from wandb) (1.15.0)\n",
            "Requirement already satisfied: setuptools in /usr/local/lib/python3.7/dist-packages (from wandb) (57.4.0)\n",
            "Requirement already satisfied: protobuf!=4.0.*,!=4.21.0,<5,>=3.12.0 in /usr/local/lib/python3.7/dist-packages (from wandb) (3.19.6)\n",
            "Collecting pathtools\n",
            "  Downloading pathtools-0.1.2.tar.gz (11 kB)\n",
            "Collecting setproctitle\n",
            "  Downloading setproctitle-1.3.2-cp37-cp37m-manylinux_2_5_x86_64.manylinux1_x86_64.manylinux_2_17_x86_64.manylinux2014_x86_64.whl (30 kB)\n",
            "Requirement already satisfied: typing-extensions>=3.7.4.3 in /usr/local/lib/python3.7/dist-packages (from GitPython>=1.0.0->wandb) (4.1.1)\n",
            "Collecting gitdb<5,>=4.0.1\n",
            "  Downloading gitdb-4.0.10-py3-none-any.whl (62 kB)\n",
            "\u001b[K     |████████████████████████████████| 62 kB 1.7 MB/s \n",
            "\u001b[?25hCollecting smmap<6,>=3.0.1\n",
            "  Downloading smmap-5.0.0-py3-none-any.whl (24 kB)\n",
            "Requirement already satisfied: certifi>=2017.4.17 in /usr/local/lib/python3.7/dist-packages (from requests<3,>=2.0.0->wandb) (2022.9.24)\n",
            "Requirement already satisfied: chardet<4,>=3.0.2 in /usr/local/lib/python3.7/dist-packages (from requests<3,>=2.0.0->wandb) (3.0.4)\n",
            "Requirement already satisfied: urllib3!=1.25.0,!=1.25.1,<1.26,>=1.21.1 in /usr/local/lib/python3.7/dist-packages (from requests<3,>=2.0.0->wandb) (1.25.11)\n",
            "Requirement already satisfied: idna<3,>=2.5 in /usr/local/lib/python3.7/dist-packages (from requests<3,>=2.0.0->wandb) (2.10)\n",
            "Collecting sentry-sdk>=1.0.0\n",
            "  Downloading sentry_sdk-1.11.0-py2.py3-none-any.whl (168 kB)\n",
            "\u001b[K     |████████████████████████████████| 168 kB 79.7 MB/s \n",
            "\u001b[?25h  Downloading sentry_sdk-1.10.1-py2.py3-none-any.whl (166 kB)\n",
            "\u001b[K     |████████████████████████████████| 166 kB 87.1 MB/s \n",
            "\u001b[?25h  Downloading sentry_sdk-1.10.0-py2.py3-none-any.whl (166 kB)\n",
            "\u001b[K     |████████████████████████████████| 166 kB 87.3 MB/s \n",
            "\u001b[?25h  Downloading sentry_sdk-1.9.10-py2.py3-none-any.whl (162 kB)\n",
            "\u001b[K     |████████████████████████████████| 162 kB 86.0 MB/s \n",
            "\u001b[?25h  Downloading sentry_sdk-1.9.9-py2.py3-none-any.whl (162 kB)\n",
            "\u001b[K     |████████████████████████████████| 162 kB 84.8 MB/s \n",
            "\u001b[?25h  Downloading sentry_sdk-1.9.8-py2.py3-none-any.whl (158 kB)\n",
            "\u001b[K     |████████████████████████████████| 158 kB 84.0 MB/s \n",
            "\u001b[?25h  Downloading sentry_sdk-1.9.7-py2.py3-none-any.whl (157 kB)\n",
            "\u001b[K     |████████████████████████████████| 157 kB 89.3 MB/s \n",
            "\u001b[?25h  Downloading sentry_sdk-1.9.6-py2.py3-none-any.whl (157 kB)\n",
            "\u001b[K     |████████████████████████████████| 157 kB 89.3 MB/s \n",
            "\u001b[?25h  Downloading sentry_sdk-1.9.5-py2.py3-none-any.whl (157 kB)\n",
            "\u001b[K     |████████████████████████████████| 157 kB 88.1 MB/s \n",
            "\u001b[?25h  Downloading sentry_sdk-1.9.4-py2.py3-none-any.whl (157 kB)\n",
            "\u001b[K     |████████████████████████████████| 157 kB 88.6 MB/s \n",
            "\u001b[?25h  Downloading sentry_sdk-1.9.3-py2.py3-none-any.whl (157 kB)\n",
            "\u001b[K     |████████████████████████████████| 157 kB 91.2 MB/s \n",
            "\u001b[?25h  Downloading sentry_sdk-1.9.2-py2.py3-none-any.whl (157 kB)\n",
            "\u001b[K     |████████████████████████████████| 157 kB 65.5 MB/s \n",
            "\u001b[?25h  Downloading sentry_sdk-1.9.1-py2.py3-none-any.whl (157 kB)\n",
            "\u001b[K     |████████████████████████████████| 157 kB 70.5 MB/s \n",
            "\u001b[?25h  Downloading sentry_sdk-1.9.0-py2.py3-none-any.whl (156 kB)\n",
            "\u001b[K     |████████████████████████████████| 156 kB 86.5 MB/s \n",
            "\u001b[?25hBuilding wheels for collected packages: pathtools\n",
            "  Building wheel for pathtools (setup.py) ... \u001b[?25l\u001b[?25hdone\n",
            "  Created wheel for pathtools: filename=pathtools-0.1.2-py3-none-any.whl size=8806 sha256=a2a816b6b28a30012700782b35d4e52550e9ee261e688c26e991b425ebc17c63\n",
            "  Stored in directory: /root/.cache/pip/wheels/3e/31/09/fa59cef12cdcfecc627b3d24273699f390e71828921b2cbba2\n",
            "Successfully built pathtools\n",
            "Installing collected packages: smmap, gitdb, shortuuid, setproctitle, sentry-sdk, pathtools, GitPython, docker-pycreds, wandb\n",
            "Successfully installed GitPython-3.1.29 docker-pycreds-0.4.0 gitdb-4.0.10 pathtools-0.1.2 sentry-sdk-1.9.0 setproctitle-1.3.2 shortuuid-1.0.11 smmap-5.0.0 wandb-0.13.5\n"
          ]
        }
      ],
      "source": [
        "!pip install transformers\n",
        "!pip install evaluate\n",
        "!pip install omegaconf\n",
        "!pip install wandb"
      ]
    },
    {
      "cell_type": "markdown",
      "id": "55fee252-995d-448b-93d5-6ca72a4f68f3",
      "metadata": {
        "id": "55fee252-995d-448b-93d5-6ca72a4f68f3"
      },
      "source": [
        " # 1. Import"
      ]
    },
    {
      "cell_type": "code",
      "execution_count": null,
      "id": "48569888-879e-4e14-8220-454dc06b73f4",
      "metadata": {
        "execution": {
          "iopub.execute_input": "2022-10-21T01:54:52.361357Z",
          "iopub.status.busy": "2022-10-21T01:54:52.360326Z",
          "iopub.status.idle": "2022-10-21T01:54:56.844297Z",
          "shell.execute_reply": "2022-10-21T01:54:56.843138Z",
          "shell.execute_reply.started": "2022-10-21T01:54:52.361294Z"
        },
        "tags": [],
        "id": "48569888-879e-4e14-8220-454dc06b73f4"
      },
      "outputs": [],
      "source": [
        "import os\n",
        "import json\n",
        "import wandb\n",
        "import shutil\n",
        "import random\n",
        "import evaluate\n",
        "import numpy as np\n",
        "import pandas as pd\n",
        "import matplotlib.pyplot as plt\n",
        "\n",
        "from tqdm import tqdm\n",
        "from pathlib import Path\n",
        "from omegaconf import OmegaConf\n",
        "from sklearn.metrics import f1_score\n",
        "from datetime import datetime, timezone, timedelta\n",
        "from sklearn.model_selection import train_test_split\n",
        "\n",
        "import torch\n",
        "import torch.nn as nn\n",
        "import torch.nn.functional as F\n",
        "\n",
        "from torch.utils import *\n",
        "from torch.optim import Adam\n",
        "from torch.utils.data import DataLoader\n",
        "\n",
        "from transformers import logging, get_linear_schedule_with_warmup\n",
        "from transformers import ( \n",
        "    BertConfig,\n",
        "    ElectraConfig\n",
        ")\n",
        "\n",
        "\n",
        "# 실험에 사용할 모델 라이브러리 추가\n",
        "from transformers import (\n",
        "    BertTokenizer,\n",
        "    BertTokenizerFast,\n",
        "    AutoTokenizer,\n",
        "    ElectraTokenizer,\n",
        "    AlbertTokenizer,\n",
        "    RobertaTokenizerFast\n",
        ")\n",
        "from transformers import (\n",
        "    BertModel,\n",
        "    AutoModel, \n",
        "    ElectraForSequenceClassification,\n",
        "    BertForSequenceClassification,\n",
        "    AlbertForSequenceClassification,\n",
        "    RobertaForSequenceClassification,\n",
        "    TextClassificationPipeline\n",
        ")"
      ]
    },
    {
      "cell_type": "markdown",
      "id": "3423814c-c555-4992-8f37-4886afa8fe86",
      "metadata": {
        "id": "3423814c-c555-4992-8f37-4886afa8fe86"
      },
      "source": [
        "# 2. 실험 세팅 \n",
        "### Train Configuration"
      ]
    },
    {
      "cell_type": "code",
      "execution_count": null,
      "id": "059bba81-155c-4fe8-af14-1ee8ee8d94f1",
      "metadata": {
        "execution": {
          "iopub.execute_input": "2022-10-21T01:54:56.848246Z",
          "iopub.status.busy": "2022-10-21T01:54:56.846827Z",
          "iopub.status.idle": "2022-10-21T01:54:56.876054Z",
          "shell.execute_reply": "2022-10-21T01:54:56.874700Z",
          "shell.execute_reply.started": "2022-10-21T01:54:56.848170Z"
        },
        "tags": [],
        "id": "059bba81-155c-4fe8-af14-1ee8ee8d94f1",
        "colab": {
          "base_uri": "https://localhost:8080/"
        },
        "outputId": "d82ef464-37ff-4621-f511-a0fff04190d2"
      },
      "outputs": [
        {
          "output_type": "stream",
          "name": "stdout",
          "text": [
            "PROJECT_DIR : /content/drive/MyDrive/Shopping\n"
          ]
        }
      ],
      "source": [
        "# Project directory\n",
        "PROJECT_DIR = os.getcwd()\n",
        "print('PROJECT_DIR :',PROJECT_DIR)\n",
        "\n",
        "# Load train config\n",
        "## !!! config 수정할때마다 이 셀을 다시 실행하세요 !!!\n",
        "config_path = os.path.join(PROJECT_DIR, 'baseline', 'config', 'train.yaml')\n",
        "config = OmegaConf.load(config_path)"
      ]
    },
    {
      "cell_type": "markdown",
      "id": "fc69bd47-35c2-4119-aefd-923b34f98426",
      "metadata": {
        "id": "fc69bd47-35c2-4119-aefd-923b34f98426"
      },
      "source": [
        "### 실험 기록 및 경로 설정"
      ]
    },
    {
      "cell_type": "code",
      "execution_count": null,
      "id": "6655c514-58ef-4c7e-8ed9-9e8596adc003",
      "metadata": {
        "execution": {
          "iopub.execute_input": "2022-10-21T01:54:56.877761Z",
          "iopub.status.busy": "2022-10-21T01:54:56.877339Z",
          "iopub.status.idle": "2022-10-21T01:54:56.886555Z",
          "shell.execute_reply": "2022-10-21T01:54:56.885417Z",
          "shell.execute_reply.started": "2022-10-21T01:54:56.877732Z"
        },
        "tags": [],
        "colab": {
          "base_uri": "https://localhost:8080/"
        },
        "id": "6655c514-58ef-4c7e-8ed9-9e8596adc003",
        "outputId": "cc18ae2b-88d1-4a2b-dc76-76e29e8bc9e7"
      },
      "outputs": [
        {
          "output_type": "stream",
          "name": "stdout",
          "text": [
            "Results will be found here :  /content/drive/MyDrive/Shopping/results/train/20221019_180402\n",
            "DATA_DIR : /content/drive/MyDrive/Shopping/DATA\n",
            "TRAIN_DIR : /content/drive/MyDrive/Shopping/DATA/train\n",
            "TEST_DIR : /content/drive/MyDrive/Shopping/DATA/test\n",
            "SAMPLE_DIR : /content/drive/MyDrive/Shopping/DATA/sample_submission.csv\n"
          ]
        }
      ],
      "source": [
        "# Train Serial\n",
        "kst = timezone(timedelta(hours=9))\n",
        "train_serial = datetime.now(tz=kst).strftime(\"%Y%m%d_%H%M%S\")\n",
        "\n",
        "\n",
        "# Recorder directory\n",
        "if config.train.resume==None:\n",
        "    RECORDER_DIR = os.path.join(PROJECT_DIR, 'results', 'train', train_serial)\n",
        "else:\n",
        "    RECORDER_DIR = os.path.join(PROJECT_DIR, config.train.resume_weight_dir)\n",
        "    \n",
        "os.makedirs(RECORDER_DIR, exist_ok=True)\n",
        "print(\"Results will be found here : \", RECORDER_DIR)\n",
        "\n",
        "# Data Directory\n",
        "DATA_DIR = Path(config.train.dataset_path)\n",
        "TRAIN_DIR = DATA_DIR/'train/'\n",
        "TEST_DIR = DATA_DIR/'test/'\n",
        "SAMPLE_DIR = os.path.join(DATA_DIR,'sample_submission.csv')\n",
        "\n",
        "print('DATA_DIR :',DATA_DIR)\n",
        "print('TRAIN_DIR :',TRAIN_DIR)\n",
        "print('TEST_DIR :',TEST_DIR)\n",
        "print('SAMPLE_DIR :',SAMPLE_DIR)"
      ]
    },
    {
      "cell_type": "markdown",
      "id": "64f73a37-0f4e-4ff8-a9df-bf580e894f42",
      "metadata": {
        "id": "64f73a37-0f4e-4ff8-a9df-bf580e894f42"
      },
      "source": [
        "### Seed 고정 및 GPU 지정"
      ]
    },
    {
      "cell_type": "code",
      "execution_count": null,
      "id": "48df682e-bd21-4a51-833f-1115166d8bc1",
      "metadata": {
        "execution": {
          "iopub.execute_input": "2022-10-21T01:54:56.887787Z",
          "iopub.status.busy": "2022-10-21T01:54:56.887536Z",
          "iopub.status.idle": "2022-10-21T01:54:57.973315Z",
          "shell.execute_reply": "2022-10-21T01:54:57.971242Z",
          "shell.execute_reply.started": "2022-10-21T01:54:56.887766Z"
        },
        "tags": [],
        "colab": {
          "base_uri": "https://localhost:8080/"
        },
        "id": "48df682e-bd21-4a51-833f-1115166d8bc1",
        "outputId": "cf05f0c6-2ad4-4c48-9793-402ae0fff6d0"
      },
      "outputs": [
        {
          "output_type": "execute_result",
          "data": {
            "text/plain": [
              "device(type='cuda')"
            ]
          },
          "metadata": {},
          "execution_count": 7
        }
      ],
      "source": [
        "# Seed 설정\n",
        "random.seed(config.train.seed)\n",
        "np.random.seed(config.train.seed)\n",
        "torch.manual_seed(config.train.seed)\n",
        "torch.cuda.manual_seed_all(config.train.seed)\n",
        "\n",
        "torch.backends.cudnn.benchmark = False\n",
        "torch.backends.cudnn.deterministic = True\n",
        "\n",
        "# GPU 설정\n",
        "device = torch.device('cuda' if torch.cuda.is_available() else 'cpu')\n",
        "device"
      ]
    },
    {
      "cell_type": "markdown",
      "id": "79b2fe59-0197-44ed-8ba7-68c988b2747f",
      "metadata": {
        "id": "79b2fe59-0197-44ed-8ba7-68c988b2747f"
      },
      "source": [
        "### Set logger"
      ]
    },
    {
      "cell_type": "code",
      "execution_count": null,
      "id": "d6de5e92-2781-487a-b2b9-1f71665d9d0f",
      "metadata": {
        "execution": {
          "iopub.execute_input": "2022-10-21T01:54:57.977274Z",
          "iopub.status.busy": "2022-10-21T01:54:57.976229Z",
          "iopub.status.idle": "2022-10-21T01:54:58.001553Z",
          "shell.execute_reply": "2022-10-21T01:54:58.000112Z",
          "shell.execute_reply.started": "2022-10-21T01:54:57.977196Z"
        },
        "tags": [],
        "colab": {
          "base_uri": "https://localhost:8080/"
        },
        "id": "d6de5e92-2781-487a-b2b9-1f71665d9d0f",
        "outputId": "2859ff15-d881-41f7-89aa-dfeca3e5439a"
      },
      "outputs": [
        {
          "output_type": "stream",
          "name": "stderr",
          "text": [
            "INFO:train:Set Logger /content/drive/MyDrive/Shopping/results/train/20221019_180402\n",
            "INFO:train:train:\n",
            "  dataset_path: /content/drive/MyDrive/Shopping/DATA\n",
            "  num_classes: 14\n",
            "  max_seq_len: 128\n",
            "  train_batch_size: 32\n",
            "  eval_batch_size: 32\n",
            "  num_epochs: 1\n",
            "  metric: f1\n",
            "  seed: 777\n",
            "  early_stopping_patience: 5\n",
            "  resume: true\n",
            "  resume_weight_dir: results/train/20221019_180402\n",
            "  save_strategy: epoch\n",
            "  save_steps: 100\n",
            "  eval_steps: 500\n",
            "  evaluation_strategy: epoch\n",
            "  fp16: true\n",
            "  num_workers: 1\n",
            "  use_cuda: true\n",
            "  gpus: '1'\n",
            "  optimizer: adam\n",
            "  adam_epsilon: 1.0e-08\n",
            "  warmup_proportion: 0.04\n",
            "  learning_rate: 1.0e-06\n",
            "  weight_decay: 0.01\n",
            "  wandb: true\n",
            "  logging_strategy: epoch\n",
            "  logging_steps: 200\n",
            "model:\n",
            "  pretrained_model: klue/roberta-small\n",
            "  architecture: RobertaForSequenceClassification\n",
            "  tokenizer_class: BertTokenizer\n",
            "\n"
          ]
        }
      ],
      "source": [
        "os.chdir('/content/drive/MyDrive/Shopping/baseline')\n",
        "from modules.utils import get_logger\n",
        "\n",
        "logger = get_logger(name='train', dir_=RECORDER_DIR, stream=False)\n",
        "logger.info(f\"Set Logger {RECORDER_DIR}\")\n",
        "logger.info(OmegaConf.to_yaml(config))"
      ]
    },
    {
      "cell_type": "markdown",
      "id": "899bc951-851a-43ea-95e9-49fa4e2fa0c9",
      "metadata": {
        "id": "899bc951-851a-43ea-95e9-49fa4e2fa0c9"
      },
      "source": [
        "# 3. EDA 및 데이터 전처리\n",
        "### DataFrame으로 시각화"
      ]
    },
    {
      "cell_type": "code",
      "execution_count": null,
      "id": "551d2840-11f9-4e27-adbe-4b998bb9c508",
      "metadata": {
        "execution": {
          "iopub.execute_input": "2022-10-21T01:54:58.007048Z",
          "iopub.status.busy": "2022-10-21T01:54:58.006426Z",
          "iopub.status.idle": "2022-10-21T01:54:58.022286Z",
          "shell.execute_reply": "2022-10-21T01:54:58.020772Z",
          "shell.execute_reply.started": "2022-10-21T01:54:58.007005Z"
        },
        "tags": [],
        "id": "551d2840-11f9-4e27-adbe-4b998bb9c508"
      },
      "outputs": [],
      "source": [
        "def make_df(data_dir:Path, test=False):\n",
        "    sentence_id=[]     # 파일명 + .txt + 텍스트 내에서 문장 순서\n",
        "    speaker = []       # 화자\n",
        "    text = []          # text\n",
        "    speechAct = []     # 문장이 어떤 내용인지 말해주는 label값\n",
        "    \n",
        "    for directory in data_dir.iterdir():\n",
        "        for file in directory.iterdir():\n",
        "            if 'checkpoint' in str(file): continue\n",
        "            if test ==False:\n",
        "                try:\n",
        "                    label = json.load(open(file))\n",
        "                except:\n",
        "                    continue\n",
        "                lines = label['info'][0]['annotations']['lines']\n",
        "                for i, l in enumerate(lines):\n",
        "                    sentence_id.append(file.stem+'.txt-'+str(i)) # 문장 id\n",
        "                    speaker.append(l['text'].split('.')[0]) # 화자 넣기\n",
        "                    text.append(l['text'].split('.')[-1]) # 화자 구분 빼기\n",
        "                    speechAct.append(l['speechAct'])\n",
        "            elif file.match(\"*.txt\"):\n",
        "                try:\n",
        "                    with open(file, \"r\") as f:\n",
        "                        lines = f.read().splitlines()\n",
        "                except:\n",
        "                    continue\n",
        "\n",
        "                for i, l in enumerate(lines):\n",
        "                    sentence_id.append(file.stem+'.txt-'+str(i))\n",
        "                    speaker.append(l.split('.')[0]) # 화자 넣기\n",
        "                    text.append(l.split('.')[-1]) # 화자 구분 빼기\n",
        "    if test==False:\n",
        "        df = pd.DataFrame({'sentence_id': sentence_id, 'speaker':speaker,'text': text, 'speechAct':speechAct})\n",
        "    else:\n",
        "        df = pd.DataFrame({'sentence_id': sentence_id, 'speaker':speaker,'text': text})\n",
        "\n",
        "    return df"
      ]
    },
    {
      "cell_type": "code",
      "execution_count": null,
      "id": "23aa4a5d-fa56-4f1f-a00a-1a14dd6b2e49",
      "metadata": {
        "execution": {
          "iopub.execute_input": "2022-10-21T01:54:58.024167Z",
          "iopub.status.busy": "2022-10-21T01:54:58.023710Z",
          "iopub.status.idle": "2022-10-21T01:55:01.317905Z",
          "shell.execute_reply": "2022-10-21T01:55:01.316011Z",
          "shell.execute_reply.started": "2022-10-21T01:54:58.024136Z"
        },
        "tags": [],
        "id": "23aa4a5d-fa56-4f1f-a00a-1a14dd6b2e49"
      },
      "outputs": [],
      "source": [
        "train_df = make_df(TRAIN_DIR)"
      ]
    },
    {
      "cell_type": "code",
      "execution_count": null,
      "id": "8b5d7d3c-f493-4f54-9e8c-9be9b9ae49d5",
      "metadata": {
        "execution": {
          "iopub.execute_input": "2022-10-21T01:55:01.321127Z",
          "iopub.status.busy": "2022-10-21T01:55:01.320765Z",
          "iopub.status.idle": "2022-10-21T01:55:01.348136Z",
          "shell.execute_reply": "2022-10-21T01:55:01.347169Z",
          "shell.execute_reply.started": "2022-10-21T01:55:01.321096Z"
        },
        "tags": [],
        "id": "8b5d7d3c-f493-4f54-9e8c-9be9b9ae49d5",
        "colab": {
          "base_uri": "https://localhost:8080/",
          "height": 424
        },
        "outputId": "10db6b01-22fa-4aef-d266-cb448d76d267"
      },
      "outputs": [
        {
          "output_type": "execute_result",
          "data": {
            "text/plain": [
              "                  sentence_id speaker  \\\n",
              "0        shopping7_2471.txt-0       A   \n",
              "1        shopping7_2471.txt-1       B   \n",
              "2        shopping7_2471.txt-2       A   \n",
              "3        shopping7_2471.txt-3       B   \n",
              "4        shopping7_2471.txt-4       A   \n",
              "...                       ...     ...   \n",
              "188561   shopping2_0620.txt-8       A   \n",
              "188562   shopping2_0620.txt-9       A   \n",
              "188563  shopping2_0620.txt-10       B   \n",
              "188564  shopping2_0620.txt-11       B   \n",
              "188565  shopping2_0620.txt-12       A   \n",
              "\n",
              "                                           text          speechAct  \n",
              "0       안녕하세요 고객님 #@소속# 상담원 #@이름#입니다 무엇을 도와드릴까요               인사하기  \n",
              "1                           네 안녕하세요 문의드릴 게 있어서요               주장하기  \n",
              "2                               네 어떤 문의이실까요 고객님               질문하기  \n",
              "3                               마이샵 변경은 어떻게 하나요               질문하기  \n",
              "4                마이샵 변경은 등록일로부터 일년 이후 변경이 가능합니다               진술하기  \n",
              "...                                         ...                ...  \n",
              "188561                저희 쪽에서 확인했을 때 상품 정상 작동되어요               진술하기  \n",
              "188562           사용 방법 숙지하시고 재사용 해보셔야 되실 것 같습니다          명령하기/요구하기  \n",
              "188563        블루투스 오 점 영 이상이여야 한다구요 그럼 말을 해줬어야지  부정감정표현하기(비난하기 포함)  \n",
              "188564                        일단 알았고요 전화 다시 할게요   약속하기(개인적 수준의 서약)  \n",
              "188565          문의사항 있으시면 전화주세요 #@소속# #@이름#였습니다               인사하기  \n",
              "\n",
              "[188566 rows x 4 columns]"
            ],
            "text/html": [
              "\n",
              "  <div id=\"df-f19d35ce-3aa8-44b4-af30-cf4e66b330e8\">\n",
              "    <div class=\"colab-df-container\">\n",
              "      <div>\n",
              "<style scoped>\n",
              "    .dataframe tbody tr th:only-of-type {\n",
              "        vertical-align: middle;\n",
              "    }\n",
              "\n",
              "    .dataframe tbody tr th {\n",
              "        vertical-align: top;\n",
              "    }\n",
              "\n",
              "    .dataframe thead th {\n",
              "        text-align: right;\n",
              "    }\n",
              "</style>\n",
              "<table border=\"1\" class=\"dataframe\">\n",
              "  <thead>\n",
              "    <tr style=\"text-align: right;\">\n",
              "      <th></th>\n",
              "      <th>sentence_id</th>\n",
              "      <th>speaker</th>\n",
              "      <th>text</th>\n",
              "      <th>speechAct</th>\n",
              "    </tr>\n",
              "  </thead>\n",
              "  <tbody>\n",
              "    <tr>\n",
              "      <th>0</th>\n",
              "      <td>shopping7_2471.txt-0</td>\n",
              "      <td>A</td>\n",
              "      <td>안녕하세요 고객님 #@소속# 상담원 #@이름#입니다 무엇을 도와드릴까요</td>\n",
              "      <td>인사하기</td>\n",
              "    </tr>\n",
              "    <tr>\n",
              "      <th>1</th>\n",
              "      <td>shopping7_2471.txt-1</td>\n",
              "      <td>B</td>\n",
              "      <td>네 안녕하세요 문의드릴 게 있어서요</td>\n",
              "      <td>주장하기</td>\n",
              "    </tr>\n",
              "    <tr>\n",
              "      <th>2</th>\n",
              "      <td>shopping7_2471.txt-2</td>\n",
              "      <td>A</td>\n",
              "      <td>네 어떤 문의이실까요 고객님</td>\n",
              "      <td>질문하기</td>\n",
              "    </tr>\n",
              "    <tr>\n",
              "      <th>3</th>\n",
              "      <td>shopping7_2471.txt-3</td>\n",
              "      <td>B</td>\n",
              "      <td>마이샵 변경은 어떻게 하나요</td>\n",
              "      <td>질문하기</td>\n",
              "    </tr>\n",
              "    <tr>\n",
              "      <th>4</th>\n",
              "      <td>shopping7_2471.txt-4</td>\n",
              "      <td>A</td>\n",
              "      <td>마이샵 변경은 등록일로부터 일년 이후 변경이 가능합니다</td>\n",
              "      <td>진술하기</td>\n",
              "    </tr>\n",
              "    <tr>\n",
              "      <th>...</th>\n",
              "      <td>...</td>\n",
              "      <td>...</td>\n",
              "      <td>...</td>\n",
              "      <td>...</td>\n",
              "    </tr>\n",
              "    <tr>\n",
              "      <th>188561</th>\n",
              "      <td>shopping2_0620.txt-8</td>\n",
              "      <td>A</td>\n",
              "      <td>저희 쪽에서 확인했을 때 상품 정상 작동되어요</td>\n",
              "      <td>진술하기</td>\n",
              "    </tr>\n",
              "    <tr>\n",
              "      <th>188562</th>\n",
              "      <td>shopping2_0620.txt-9</td>\n",
              "      <td>A</td>\n",
              "      <td>사용 방법 숙지하시고 재사용 해보셔야 되실 것 같습니다</td>\n",
              "      <td>명령하기/요구하기</td>\n",
              "    </tr>\n",
              "    <tr>\n",
              "      <th>188563</th>\n",
              "      <td>shopping2_0620.txt-10</td>\n",
              "      <td>B</td>\n",
              "      <td>블루투스 오 점 영 이상이여야 한다구요 그럼 말을 해줬어야지</td>\n",
              "      <td>부정감정표현하기(비난하기 포함)</td>\n",
              "    </tr>\n",
              "    <tr>\n",
              "      <th>188564</th>\n",
              "      <td>shopping2_0620.txt-11</td>\n",
              "      <td>B</td>\n",
              "      <td>일단 알았고요 전화 다시 할게요</td>\n",
              "      <td>약속하기(개인적 수준의 서약)</td>\n",
              "    </tr>\n",
              "    <tr>\n",
              "      <th>188565</th>\n",
              "      <td>shopping2_0620.txt-12</td>\n",
              "      <td>A</td>\n",
              "      <td>문의사항 있으시면 전화주세요 #@소속# #@이름#였습니다</td>\n",
              "      <td>인사하기</td>\n",
              "    </tr>\n",
              "  </tbody>\n",
              "</table>\n",
              "<p>188566 rows × 4 columns</p>\n",
              "</div>\n",
              "      <button class=\"colab-df-convert\" onclick=\"convertToInteractive('df-f19d35ce-3aa8-44b4-af30-cf4e66b330e8')\"\n",
              "              title=\"Convert this dataframe to an interactive table.\"\n",
              "              style=\"display:none;\">\n",
              "        \n",
              "  <svg xmlns=\"http://www.w3.org/2000/svg\" height=\"24px\"viewBox=\"0 0 24 24\"\n",
              "       width=\"24px\">\n",
              "    <path d=\"M0 0h24v24H0V0z\" fill=\"none\"/>\n",
              "    <path d=\"M18.56 5.44l.94 2.06.94-2.06 2.06-.94-2.06-.94-.94-2.06-.94 2.06-2.06.94zm-11 1L8.5 8.5l.94-2.06 2.06-.94-2.06-.94L8.5 2.5l-.94 2.06-2.06.94zm10 10l.94 2.06.94-2.06 2.06-.94-2.06-.94-.94-2.06-.94 2.06-2.06.94z\"/><path d=\"M17.41 7.96l-1.37-1.37c-.4-.4-.92-.59-1.43-.59-.52 0-1.04.2-1.43.59L10.3 9.45l-7.72 7.72c-.78.78-.78 2.05 0 2.83L4 21.41c.39.39.9.59 1.41.59.51 0 1.02-.2 1.41-.59l7.78-7.78 2.81-2.81c.8-.78.8-2.07 0-2.86zM5.41 20L4 18.59l7.72-7.72 1.47 1.35L5.41 20z\"/>\n",
              "  </svg>\n",
              "      </button>\n",
              "      \n",
              "  <style>\n",
              "    .colab-df-container {\n",
              "      display:flex;\n",
              "      flex-wrap:wrap;\n",
              "      gap: 12px;\n",
              "    }\n",
              "\n",
              "    .colab-df-convert {\n",
              "      background-color: #E8F0FE;\n",
              "      border: none;\n",
              "      border-radius: 50%;\n",
              "      cursor: pointer;\n",
              "      display: none;\n",
              "      fill: #1967D2;\n",
              "      height: 32px;\n",
              "      padding: 0 0 0 0;\n",
              "      width: 32px;\n",
              "    }\n",
              "\n",
              "    .colab-df-convert:hover {\n",
              "      background-color: #E2EBFA;\n",
              "      box-shadow: 0px 1px 2px rgba(60, 64, 67, 0.3), 0px 1px 3px 1px rgba(60, 64, 67, 0.15);\n",
              "      fill: #174EA6;\n",
              "    }\n",
              "\n",
              "    [theme=dark] .colab-df-convert {\n",
              "      background-color: #3B4455;\n",
              "      fill: #D2E3FC;\n",
              "    }\n",
              "\n",
              "    [theme=dark] .colab-df-convert:hover {\n",
              "      background-color: #434B5C;\n",
              "      box-shadow: 0px 1px 3px 1px rgba(0, 0, 0, 0.15);\n",
              "      filter: drop-shadow(0px 1px 2px rgba(0, 0, 0, 0.3));\n",
              "      fill: #FFFFFF;\n",
              "    }\n",
              "  </style>\n",
              "\n",
              "      <script>\n",
              "        const buttonEl =\n",
              "          document.querySelector('#df-f19d35ce-3aa8-44b4-af30-cf4e66b330e8 button.colab-df-convert');\n",
              "        buttonEl.style.display =\n",
              "          google.colab.kernel.accessAllowed ? 'block' : 'none';\n",
              "\n",
              "        async function convertToInteractive(key) {\n",
              "          const element = document.querySelector('#df-f19d35ce-3aa8-44b4-af30-cf4e66b330e8');\n",
              "          const dataTable =\n",
              "            await google.colab.kernel.invokeFunction('convertToInteractive',\n",
              "                                                     [key], {});\n",
              "          if (!dataTable) return;\n",
              "\n",
              "          const docLinkHtml = 'Like what you see? Visit the ' +\n",
              "            '<a target=\"_blank\" href=https://colab.research.google.com/notebooks/data_table.ipynb>data table notebook</a>'\n",
              "            + ' to learn more about interactive tables.';\n",
              "          element.innerHTML = '';\n",
              "          dataTable['output_type'] = 'display_data';\n",
              "          await google.colab.output.renderOutput(dataTable, element);\n",
              "          const docLink = document.createElement('div');\n",
              "          docLink.innerHTML = docLinkHtml;\n",
              "          element.appendChild(docLink);\n",
              "        }\n",
              "      </script>\n",
              "    </div>\n",
              "  </div>\n",
              "  "
            ]
          },
          "metadata": {},
          "execution_count": 11
        }
      ],
      "source": [
        "train_df"
      ]
    },
    {
      "cell_type": "code",
      "execution_count": null,
      "id": "bfe1e61a-cb95-49a3-a1ee-0415d5e82bbb",
      "metadata": {
        "execution": {
          "iopub.execute_input": "2022-10-21T01:55:01.349527Z",
          "iopub.status.busy": "2022-10-21T01:55:01.349279Z",
          "iopub.status.idle": "2022-10-21T01:55:01.396479Z",
          "shell.execute_reply": "2022-10-21T01:55:01.395616Z",
          "shell.execute_reply.started": "2022-10-21T01:55:01.349506Z"
        },
        "tags": [],
        "id": "bfe1e61a-cb95-49a3-a1ee-0415d5e82bbb"
      },
      "outputs": [],
      "source": [
        "# 라벨을 인코딩할 딕셔너리 (학습에 사용)\n",
        "label2encoding = {Act: ind for ind, Act in enumerate(train_df['speechAct'].unique())}\n",
        "# 인코딩된 라벨을 디코딩할 딕셔너리 (추론에 사용)\n",
        "encoding2label = {idx: Act for idx, Act in enumerate(train_df['speechAct'].unique())}"
      ]
    },
    {
      "cell_type": "code",
      "execution_count": null,
      "id": "1e1a4da2-7464-4564-8df9-38de6e849360",
      "metadata": {
        "execution": {
          "iopub.execute_input": "2022-10-21T01:55:01.398061Z",
          "iopub.status.busy": "2022-10-21T01:55:01.397796Z",
          "iopub.status.idle": "2022-10-21T01:55:01.517468Z",
          "shell.execute_reply": "2022-10-21T01:55:01.516664Z",
          "shell.execute_reply.started": "2022-10-21T01:55:01.398038Z"
        },
        "tags": [],
        "id": "1e1a4da2-7464-4564-8df9-38de6e849360",
        "colab": {
          "base_uri": "https://localhost:8080/"
        },
        "outputId": "55693417-03b0-4aa5-cca8-2fec341a9293"
      },
      "outputs": [
        {
          "output_type": "execute_result",
          "data": {
            "text/plain": [
              "Series([], Name: text, dtype: object)"
            ]
          },
          "metadata": {},
          "execution_count": 13
        }
      ],
      "source": [
        "# 길이가 128이 넘는 코멘트가 있는지 확인\n",
        "train_df['text'][train_df['text'].str.len()>config.train.max_seq_len]"
      ]
    },
    {
      "cell_type": "markdown",
      "id": "7ce4062a-7030-4a06-9ec1-985a9e7bd49e",
      "metadata": {
        "id": "7ce4062a-7030-4a06-9ec1-985a9e7bd49e"
      },
      "source": [
        "### Tokenizer"
      ]
    },
    {
      "cell_type": "code",
      "execution_count": null,
      "id": "7ad836f0-27b4-42ac-bb38-99352a077def",
      "metadata": {
        "execution": {
          "iopub.execute_input": "2022-10-21T01:55:01.519411Z",
          "iopub.status.busy": "2022-10-21T01:55:01.519002Z",
          "iopub.status.idle": "2022-10-21T01:55:02.421600Z",
          "shell.execute_reply": "2022-10-21T01:55:02.420273Z",
          "shell.execute_reply.started": "2022-10-21T01:55:01.519385Z"
        },
        "tags": [],
        "id": "7ad836f0-27b4-42ac-bb38-99352a077def",
        "colab": {
          "base_uri": "https://localhost:8080/",
          "height": 113,
          "referenced_widgets": [
            "1d0390e9b8f54df598193ef6e266deb2",
            "656290d42a8f40c9bd0bdd18e8505b89",
            "48de52aa46464473b1579ee04582fd2f",
            "7066de06d5474a838672af82d906310d",
            "4f31aaa8adaa45b5b7b2e11312cabc7a",
            "91cba68d91ed484cbb2da8d40c54fa59",
            "de6ed8ff6c25421482f89987165bade8",
            "63feb5bf8fb1408a83a19b03131c5975",
            "2c0db7e2da8e45ec867ec52e6d8c237f",
            "44eaa889213848daaf2440af767be004",
            "def3933df70b4d9cbdc5a74fe5ca9932",
            "a152cbbb4a5c4e0d9508f66cdc615325",
            "71ccf5adc57e45e0a2cf499ae3f77ff5",
            "022c48788a5247ac9854545f7711b376",
            "31a92a58d03d493ab3c485865b6c7989",
            "16b27d5367d249e686f5f7f88e3407b0",
            "01de8eded90a440fbe938d38d193b82f",
            "0b117568bb2044978fe0bc450b17e46d",
            "2aa1c7c4d5a0467a917ce934b257d229",
            "c7be5bd712344bfd9bd86b5c60e7715b",
            "39db37ed50ae4d748f21ff20ec381fdc",
            "d79651014dff4c32b11c1d521d79df09",
            "86e9ef4abe1048588d862be12391d1fb",
            "80c86e66e6b94cea8cec388c1fb10c20",
            "1aae24e9abab430f896f7132f9f75e36",
            "96da7535f70541d4b531b99afddd1148",
            "5e870a0d5bde4f158ba6dde8a0376549",
            "6ef62ef97c30482693e014b01f440004",
            "ecd7153f55a9459789f4c471f478bcbc",
            "0e919f9641414f9eb76bfda2c0b463e9",
            "71f9fec5c7984579a05364768696d66f",
            "fbeee328eae141fc8fd26e60d5852fe1",
            "29ea8fd0f78a4d979b8ebf00ca773ae7"
          ]
        },
        "outputId": "04e1db33-1f20-4431-e72a-808bad3844ac"
      },
      "outputs": [
        {
          "output_type": "display_data",
          "data": {
            "text/plain": [
              "Downloading:   0%|          | 0.00/248k [00:00<?, ?B/s]"
            ],
            "application/vnd.jupyter.widget-view+json": {
              "version_major": 2,
              "version_minor": 0,
              "model_id": "1d0390e9b8f54df598193ef6e266deb2"
            }
          },
          "metadata": {}
        },
        {
          "output_type": "display_data",
          "data": {
            "text/plain": [
              "Downloading:   0%|          | 0.00/173 [00:00<?, ?B/s]"
            ],
            "application/vnd.jupyter.widget-view+json": {
              "version_major": 2,
              "version_minor": 0,
              "model_id": "a152cbbb4a5c4e0d9508f66cdc615325"
            }
          },
          "metadata": {}
        },
        {
          "output_type": "display_data",
          "data": {
            "text/plain": [
              "Downloading:   0%|          | 0.00/375 [00:00<?, ?B/s]"
            ],
            "application/vnd.jupyter.widget-view+json": {
              "version_major": 2,
              "version_minor": 0,
              "model_id": "86e9ef4abe1048588d862be12391d1fb"
            }
          },
          "metadata": {}
        }
      ],
      "source": [
        "# config.json 에서 지정 이름별로 가져올 라이브러리 지정\n",
        "\n",
        "TOKENIZER_CLASSES = {\n",
        "    \"BertTokenizer\": BertTokenizer,\n",
        "    \"BertTokenizerFast\": BertTokenizerFast,\n",
        "    \"AutoTokenizer\": AutoTokenizer,\n",
        "    \"ElectraTokenizer\": ElectraTokenizer,\n",
        "    \"AlbertTokenizer\": AlbertTokenizer,\n",
        "    \"RobertaTokenizerFast\" : RobertaTokenizerFast\n",
        "}\n",
        "TOKENIZER = TOKENIZER_CLASSES[config.model.tokenizer_class].from_pretrained(config.model.pretrained_model)"
      ]
    },
    {
      "cell_type": "code",
      "execution_count": null,
      "id": "2bfe68a6-f3bc-4182-8666-43588fa12bc1",
      "metadata": {
        "execution": {
          "iopub.execute_input": "2022-10-21T01:55:02.424254Z",
          "iopub.status.busy": "2022-10-21T01:55:02.423715Z",
          "iopub.status.idle": "2022-10-21T01:55:02.432841Z",
          "shell.execute_reply": "2022-10-21T01:55:02.431526Z",
          "shell.execute_reply.started": "2022-10-21T01:55:02.424225Z"
        },
        "tags": [],
        "id": "2bfe68a6-f3bc-4182-8666-43588fa12bc1",
        "colab": {
          "base_uri": "https://localhost:8080/"
        },
        "outputId": "f56daf92-0ec5-4fb3-ebdb-635b1067e1be"
      },
      "outputs": [
        {
          "output_type": "stream",
          "name": "stdout",
          "text": [
            "{'input_ids': [0, 5891, 2205, 5971, 3916, 2098, 7, 36, 4546, 7, 24886, 7, 36, 3934, 7, 3714, 3890, 2069, 5232, 2343, 2388, 6301, 2], 'token_type_ids': [0, 0, 0, 0, 0, 0, 0, 0, 0, 0, 0, 0, 0, 0, 0, 0, 0, 0, 0, 0, 0, 0, 0], 'attention_mask': [1, 1, 1, 1, 1, 1, 1, 1, 1, 1, 1, 1, 1, 1, 1, 1, 1, 1, 1, 1, 1, 1, 1]}\n",
            "[0, 5891, 2205, 5971, 3916, 2098, 7, 36, 4546, 7, 24886, 7, 36, 3934, 7, 3714, 3890, 2069, 5232, 2343, 2388, 6301, 2] \n",
            "\n",
            "['안녕', '##하', '##세요', '고객', '##님', '#', '@', '소속', '#', '상담원', '#', '@', '이름', '#', '입니다', '무엇', '##을', '도와', '##드', '##릴', '##까요'] \n",
            "\n",
            "[5891, 2205, 5971, 3916, 2098, 7, 36, 4546, 7, 24886, 7, 36, 3934, 7, 3714, 3890, 2069, 5232, 2343, 2388, 6301]\n"
          ]
        }
      ],
      "source": [
        "# Tokenizer 예시\n",
        "comment_ex = train_df['text'][0]\n",
        "print(TOKENIZER(comment_ex))\n",
        "print(TOKENIZER.encode(comment_ex),\"\\n\")\n",
        "\n",
        "# 토큰으로 나누기\n",
        "print(TOKENIZER.tokenize(comment_ex),\"\\n\")\n",
        "\n",
        "# 토큰 id로 매핑하기\n",
        "print(TOKENIZER.convert_tokens_to_ids(TOKENIZER.tokenize(comment_ex)))"
      ]
    },
    {
      "cell_type": "markdown",
      "id": "3d1f4263-b34c-4d32-9e45-6243bafb018c",
      "metadata": {
        "id": "3d1f4263-b34c-4d32-9e45-6243bafb018c"
      },
      "source": [
        "# 4. Dataset"
      ]
    },
    {
      "cell_type": "markdown",
      "source": [
        "### CustomDataset 클래스 정의"
      ],
      "metadata": {
        "id": "dIiEaoZLN-qY"
      },
      "id": "dIiEaoZLN-qY"
    },
    {
      "cell_type": "code",
      "execution_count": null,
      "id": "00f35f69-d09c-4931-bb2a-298ced956dd3",
      "metadata": {
        "execution": {
          "iopub.execute_input": "2022-10-21T01:55:02.435079Z",
          "iopub.status.busy": "2022-10-21T01:55:02.434142Z",
          "iopub.status.idle": "2022-10-21T01:55:02.445606Z",
          "shell.execute_reply": "2022-10-21T01:55:02.444807Z",
          "shell.execute_reply.started": "2022-10-21T01:55:02.435053Z"
        },
        "tags": [],
        "id": "00f35f69-d09c-4931-bb2a-298ced956dd3"
      },
      "outputs": [],
      "source": [
        "class CustomDataset(torch.utils.data.Dataset):  # 데이터를 input으로 변환해주는 Dataset 클래스를 상속한 후 커스터마이징\n",
        "\n",
        "    def __init__(self, df, tokenizer, max_seq_len, mode = 'train'):  # Dataset 클래스는 기본적으로 __init__, __len__, __getitem__를 정의해 주어야 한다\n",
        "\n",
        "        self.data = df\n",
        "        self.tokenizer = tokenizer\n",
        "        self.max_seq_len = max_seq_len\n",
        "        self.mode = mode\n",
        "        self.speakers = self.data['speaker'].tolist()\n",
        "        self.texts = self.data['text'].tolist()\n",
        "        \n",
        "        if self.mode!='test':\n",
        "            try: \n",
        "                self.labels = df['speechAct'].tolist()\n",
        "            except:\n",
        "                assert False, 'CustomDataset Error : \\'label\\' column does not exist in the dataframe'\n",
        "     \n",
        "    def __len__(self):  # index를 통해 input을 순차적으로 읽어오기 위해서는 데이터의 길이가 먼저 확인되어야 한다. __len__ 함수는 input의 길이를 반환해주는 함수\n",
        "        return len(self.data)\n",
        "                \n",
        "\n",
        "    def __getitem__(self, idx):  # input의 길이가 확인되면 index를 통해 데이터를 불러올 수 있다. __getitem__ 함수는 index에 해당하는 input 데이터를 반환해주는 함수\n",
        "        \"\"\"\n",
        "        전체 데이터에서 특정 인덱스 (idx)에 해당하는 기사제목과 댓글 내용을 \n",
        "        토크나이즈한 data('input_ids', 'attention_mask','token_type_ids')의 딕셔너리 형태로 불러옴\n",
        "        \"\"\"\n",
        "        tokenized_text = self.tokenizer(self.texts[idx],\n",
        "                             padding= 'max_length',\n",
        "                             max_length=self.max_seq_len,\n",
        "                             truncation=True,\n",
        "                             return_token_type_ids=True,\n",
        "                             return_attention_mask=True,\n",
        "                             return_tensors = \"pt\")\n",
        "\n",
        "        if self.mode=='test':\n",
        "            data = {'input_ids': tokenized_text['input_ids'].squeeze(0).long(),\n",
        "                   'attention_mask': tokenized_text['attention_mask'].squeeze(0).long(),\n",
        "                   'token_type_ids': tokenized_text['token_type_ids'].squeeze(0).long()\n",
        "                    }\n",
        "        else:\n",
        "            data = {'input_ids': tokenized_text['input_ids'].squeeze(0).long(),\n",
        "                   'attention_mask': tokenized_text['attention_mask'].squeeze(0).long(),\n",
        "                   'token_type_ids': tokenized_text['token_type_ids'].squeeze(0).long(),\n",
        "                    'labels': label2encoding[self.labels[idx]]\n",
        "                    }\n",
        "\n",
        "\n",
        "        return data"
      ]
    },
    {
      "cell_type": "markdown",
      "id": "d3522ede-dcec-4a26-8cc1-b7e03ad5faf9",
      "metadata": {
        "id": "d3522ede-dcec-4a26-8cc1-b7e03ad5faf9"
      },
      "source": [
        "### Train, Validation set 나누기"
      ]
    },
    {
      "cell_type": "code",
      "execution_count": null,
      "id": "cb9fe7d4-95b8-4828-89f0-26a324fc1cab",
      "metadata": {
        "execution": {
          "iopub.execute_input": "2022-10-21T01:55:02.447545Z",
          "iopub.status.busy": "2022-10-21T01:55:02.447299Z",
          "iopub.status.idle": "2022-10-21T01:55:02.541007Z",
          "shell.execute_reply": "2022-10-21T01:55:02.540006Z",
          "shell.execute_reply.started": "2022-10-21T01:55:02.447524Z"
        },
        "tags": [],
        "id": "cb9fe7d4-95b8-4828-89f0-26a324fc1cab",
        "colab": {
          "base_uri": "https://localhost:8080/"
        },
        "outputId": "01fb3ec6-57f1-41e4-9473-cb48b63cd00a"
      },
      "outputs": [
        {
          "output_type": "stream",
          "name": "stdout",
          "text": [
            "Train dataset:  150852\n",
            "Validation dataset:  37714\n"
          ]
        }
      ],
      "source": [
        "train_data, val_data = train_test_split(train_df, test_size=0.2, random_state=config.train.seed)\n",
        "\n",
        "train_dataset = CustomDataset(train_data, TOKENIZER, config.train.max_seq_len, 'train')\n",
        "val_dataset = CustomDataset(val_data, TOKENIZER, config.train.max_seq_len, 'validation')\n",
        "\n",
        "print(\"Train dataset: \", len(train_dataset))\n",
        "print(\"Validation dataset: \", len(val_dataset))"
      ]
    },
    {
      "cell_type": "markdown",
      "id": "abca2710-8f81-42f8-aeaf-6d6ea8b56dce",
      "metadata": {
        "id": "abca2710-8f81-42f8-aeaf-6d6ea8b56dce"
      },
      "source": [
        "### DataLoader"
      ]
    },
    {
      "cell_type": "code",
      "execution_count": null,
      "id": "a9a9ae26-30c4-4d50-a9df-916de91f5b69",
      "metadata": {
        "execution": {
          "iopub.execute_input": "2022-10-21T01:55:02.543107Z",
          "iopub.status.busy": "2022-10-21T01:55:02.542694Z",
          "iopub.status.idle": "2022-10-21T01:55:02.549347Z",
          "shell.execute_reply": "2022-10-21T01:55:02.548406Z",
          "shell.execute_reply.started": "2022-10-21T01:55:02.543081Z"
        },
        "tags": [],
        "id": "a9a9ae26-30c4-4d50-a9df-916de91f5b69"
      },
      "outputs": [],
      "source": [
        "# torch.utils.data.DataLoader : input을 배치 단위로 리턴해주는 기능\n",
        "\n",
        "train_dataloader = DataLoader(dataset=train_dataset,\n",
        "                                batch_size=config.train.train_batch_size,\n",
        "                                num_workers=config.train.num_workers, \n",
        "                                shuffle=True,\n",
        "                                pin_memory=True,\n",
        "                                drop_last=False)\n",
        "\n",
        "val_dataloader = DataLoader(dataset=val_dataset,\n",
        "                            batch_size=config.train.eval_batch_size,\n",
        "                            num_workers=config.train.num_workers, \n",
        "                            shuffle=False,\n",
        "                            pin_memory=True,\n",
        "                            drop_last=False)\n"
      ]
    },
    {
      "cell_type": "markdown",
      "id": "6f382b7f-3e20-4d01-97bd-4370b5326610",
      "metadata": {
        "id": "6f382b7f-3e20-4d01-97bd-4370b5326610"
      },
      "source": [
        "# 5. 모델 선언"
      ]
    },
    {
      "cell_type": "code",
      "execution_count": null,
      "id": "210b17dc-5dcf-430d-89f8-ab6290fbc05f",
      "metadata": {
        "execution": {
          "iopub.execute_input": "2022-10-21T01:55:02.551331Z",
          "iopub.status.busy": "2022-10-21T01:55:02.550951Z",
          "iopub.status.idle": "2022-10-21T01:55:04.085197Z",
          "shell.execute_reply": "2022-10-21T01:55:04.083835Z",
          "shell.execute_reply.started": "2022-10-21T01:55:02.551307Z"
        },
        "tags": [],
        "id": "210b17dc-5dcf-430d-89f8-ab6290fbc05f",
        "colab": {
          "base_uri": "https://localhost:8080/",
          "height": 81,
          "referenced_widgets": [
            "4aafa67497d94619bd982d374353cb75",
            "02c9aac7a7d7475fb0fe0f80cea1fe11",
            "964cb72bc97e477087977c965187809f",
            "3a387836df404ab6b40206c27674dafe",
            "b178b088f28b43c4bc4cc8e0c45cf5b2",
            "4a68c61c63984bf996b966231f608a08",
            "0ff3e4ff029f4c228c15cea24eac8064",
            "337fd58ecd514464b15635d064e7c14b",
            "4abc2ff229f1433db4ebdda208eda689",
            "e8c4fb8e348a48f598b465b8adc03461",
            "1e8fcc66f34a4c288629732573cb3a3d",
            "00811e4e96964e2c9ac98f0189b47dec",
            "4525fc507c5c4069a9e106a78f903888",
            "ca8de913148d473c8e9ecca9c1a28fde",
            "a8317a3425284490bed1f903206a4b1c",
            "c7a7ca3998fe48368963a6c15d51744f",
            "7f7bfe988f844afc8cf50a2f8d213863",
            "9f80ed0374bc4f4092b565cfc24554ab",
            "62a7b6cd5c1b4839b6ff96b8214e32a8",
            "1a8586592bb44c908902dcf4f80e14fb",
            "947d1553568444caa143c098dc7c897e",
            "9a050c8d77d7401a889dd1edbf0141f4"
          ]
        },
        "outputId": "cd7af173-dde8-4a62-b67f-bcc2c1277a85"
      },
      "outputs": [
        {
          "output_type": "display_data",
          "data": {
            "text/plain": [
              "Downloading:   0%|          | 0.00/545 [00:00<?, ?B/s]"
            ],
            "application/vnd.jupyter.widget-view+json": {
              "version_major": 2,
              "version_minor": 0,
              "model_id": "4aafa67497d94619bd982d374353cb75"
            }
          },
          "metadata": {}
        },
        {
          "output_type": "display_data",
          "data": {
            "text/plain": [
              "Downloading:   0%|          | 0.00/273M [00:00<?, ?B/s]"
            ],
            "application/vnd.jupyter.widget-view+json": {
              "version_major": 2,
              "version_minor": 0,
              "model_id": "00811e4e96964e2c9ac98f0189b47dec"
            }
          },
          "metadata": {}
        }
      ],
      "source": [
        "from transformers import logging\n",
        "logging.set_verbosity_error()\n",
        "\n",
        "# config.json 에 입력된 architecture 에 따라 베이스 모델 설정\n",
        "BASE_MODELS = {\n",
        "    \"BertForSequenceClassification\": BertForSequenceClassification,\n",
        "    \"AutoModel\": AutoModel,\n",
        "    \"ElectraForSequenceClassification\": ElectraForSequenceClassification,\n",
        "    \"AlbertForSequenceClassification\": AlbertForSequenceClassification,\n",
        "    \"RobertaForSequenceClassification\": RobertaForSequenceClassification\n",
        "}\n",
        "\n",
        "model = BASE_MODELS[config.model.architecture].from_pretrained(config.model.pretrained_model, num_labels = config.train.num_classes)\n",
        "# print(model)"
      ]
    },
    {
      "cell_type": "code",
      "execution_count": null,
      "id": "2ce1b90a-a033-4005-af89-a2f930882a7d",
      "metadata": {
        "execution": {
          "iopub.execute_input": "2022-10-21T01:55:04.087498Z",
          "iopub.status.busy": "2022-10-21T01:55:04.086992Z",
          "iopub.status.idle": "2022-10-21T01:55:04.091717Z",
          "shell.execute_reply": "2022-10-21T01:55:04.090772Z",
          "shell.execute_reply.started": "2022-10-21T01:55:04.087466Z"
        },
        "tags": [],
        "id": "2ce1b90a-a033-4005-af89-a2f930882a7d"
      },
      "outputs": [],
      "source": [
        "# # 학습을 재개할 시 config 파일의 resume_weight_dir를 설정해주세요\n",
        "# if config.train.resume :\n",
        "#     checkpoint = torch.load(config.train.resume_weight_dir)\n",
        "#     model.load_state_dict(checkpoint['model'])"
      ]
    },
    {
      "cell_type": "markdown",
      "id": "cb5679e8-94a3-4f65-bcbe-adbf7c033896",
      "metadata": {
        "id": "cb5679e8-94a3-4f65-bcbe-adbf7c033896"
      },
      "source": [
        "# 6. Optimizer"
      ]
    },
    {
      "cell_type": "code",
      "execution_count": null,
      "id": "25093b87-6432-4419-aa7a-346e96c339a0",
      "metadata": {
        "execution": {
          "iopub.execute_input": "2022-10-21T01:55:04.093585Z",
          "iopub.status.busy": "2022-10-21T01:55:04.092999Z",
          "iopub.status.idle": "2022-10-21T01:55:04.100399Z",
          "shell.execute_reply": "2022-10-21T01:55:04.099392Z",
          "shell.execute_reply.started": "2022-10-21T01:55:04.093553Z"
        },
        "tags": [],
        "id": "25093b87-6432-4419-aa7a-346e96c339a0"
      },
      "outputs": [],
      "source": [
        "optimizer = Adam(model.parameters(), lr=config.train.learning_rate, eps=config.train.adam_epsilon)\n",
        "\n",
        "total_steps = len(train_dataloader) * config.train.num_epochs \n",
        "lr_scheduler = get_linear_schedule_with_warmup(optimizer, num_warmup_steps=int(total_steps * config.train.warmup_proportion), \n",
        "                                                num_training_steps=total_steps)"
      ]
    },
    {
      "cell_type": "markdown",
      "id": "c4fba02f-b593-42e2-ba7c-e3d9a70018b9",
      "metadata": {
        "id": "c4fba02f-b593-42e2-ba7c-e3d9a70018b9"
      },
      "source": [
        "# 7. Metric"
      ]
    },
    {
      "cell_type": "markdown",
      "id": "0de7e3dc-8575-43e8-bd9e-f708439b8f4f",
      "metadata": {
        "id": "0de7e3dc-8575-43e8-bd9e-f708439b8f4f"
      },
      "source": [
        "- [evaluate 라이브러리 document](https://pypi.org/project/evaluate/)\n",
        "- [각 metric 사용법](https://huggingface.co/evaluate-metric?sort_spaces=alphabetical#spaces)"
      ]
    },
    {
      "cell_type": "code",
      "execution_count": null,
      "id": "a8322e28-86fd-44b9-adb8-9e38416dc3fc",
      "metadata": {
        "execution": {
          "iopub.execute_input": "2022-10-21T01:55:04.475628Z",
          "iopub.status.busy": "2022-10-21T01:55:04.475020Z",
          "iopub.status.idle": "2022-10-21T01:55:04.482146Z",
          "shell.execute_reply": "2022-10-21T01:55:04.481332Z",
          "shell.execute_reply.started": "2022-10-21T01:55:04.475599Z"
        },
        "tags": [],
        "id": "a8322e28-86fd-44b9-adb8-9e38416dc3fc"
      },
      "outputs": [],
      "source": [
        "# 사용 가능한 metric 리스트를 보려면 아래를 주석 해제하여 확인하여 config 파일을 수정하여 다시 불러오세요.\n",
        "# evaluate.list_evaluation_modules()\n",
        "\n",
        "def compute_metrics(eval_pred):\n",
        "    metric_fn = evaluate.load(config.train.metric)\n",
        "    logits, labels = eval_pred\n",
        "    predictions = np.argmax(logits, axis=-1)\n",
        "    if config.train.metric=='f1':\n",
        "        score = metric_fn.compute(predictions=predictions, references=labels, average='macro')\n",
        "    else:\n",
        "        score = metric_fn.compute(predictions=predictions, references=labels)\n",
        "    return score"
      ]
    },
    {
      "cell_type": "markdown",
      "id": "cd3feba6-2fb9-46bf-8a64-04bc0219b8c0",
      "metadata": {
        "id": "cd3feba6-2fb9-46bf-8a64-04bc0219b8c0"
      },
      "source": [
        "# 8. Early stopper"
      ]
    },
    {
      "cell_type": "code",
      "execution_count": null,
      "id": "06b71842-1b9f-4b57-8273-efe8c713c52d",
      "metadata": {
        "execution": {
          "iopub.execute_input": "2022-10-21T01:55:04.493842Z",
          "iopub.status.busy": "2022-10-21T01:55:04.493456Z",
          "iopub.status.idle": "2022-10-21T01:55:04.501421Z",
          "shell.execute_reply": "2022-10-21T01:55:04.500431Z",
          "shell.execute_reply.started": "2022-10-21T01:55:04.493818Z"
        },
        "tags": [],
        "id": "06b71842-1b9f-4b57-8273-efe8c713c52d",
        "colab": {
          "base_uri": "https://localhost:8080/"
        },
        "outputId": "976f05d3-87b3-4f48-b9d8-3ed7b8b79224"
      },
      "outputs": [
        {
          "output_type": "stream",
          "name": "stderr",
          "text": [
            "INFO:train:Initiated ealry stopper, mode: min, best score: inf, patience: 5\n"
          ]
        }
      ],
      "source": [
        "from modules.earlystoppers import EarlyStopper\n",
        "\n",
        "early_stopper = EarlyStopper(patience=config.train.early_stopping_patience,\n",
        "                             mode='min',\n",
        "                             logger=logger)"
      ]
    },
    {
      "cell_type": "markdown",
      "id": "6a2eaa25-3368-4748-96bf-495b0b289fad",
      "metadata": {
        "id": "6a2eaa25-3368-4748-96bf-495b0b289fad"
      },
      "source": [
        "# 9. Recorder"
      ]
    },
    {
      "cell_type": "code",
      "execution_count": null,
      "id": "db4b3ed5-b323-4c82-bfa3-d3e4f1d5f6e2",
      "metadata": {
        "execution": {
          "iopub.execute_input": "2022-10-21T01:55:04.503184Z",
          "iopub.status.busy": "2022-10-21T01:55:04.502803Z",
          "iopub.status.idle": "2022-10-21T01:55:04.509435Z",
          "shell.execute_reply": "2022-10-21T01:55:04.508293Z",
          "shell.execute_reply.started": "2022-10-21T01:55:04.503161Z"
        },
        "tags": [],
        "id": "db4b3ed5-b323-4c82-bfa3-d3e4f1d5f6e2"
      },
      "outputs": [],
      "source": [
        "from modules.recorders import Recorder\n",
        "\n",
        "recorder = Recorder(record_dir=RECORDER_DIR,\n",
        "                    model=model,\n",
        "                    optimizer=optimizer,\n",
        "                    scheduler=None,\n",
        "                    amp=None,\n",
        "                    logger=logger)"
      ]
    },
    {
      "cell_type": "code",
      "execution_count": null,
      "id": "b12ffc7e-7159-4082-91ce-b5d85192d3be",
      "metadata": {
        "execution": {
          "iopub.execute_input": "2022-10-21T01:55:04.511194Z",
          "iopub.status.busy": "2022-10-21T01:55:04.510779Z",
          "iopub.status.idle": "2022-10-21T01:55:04.516260Z",
          "shell.execute_reply": "2022-10-21T01:55:04.514899Z",
          "shell.execute_reply.started": "2022-10-21T01:55:04.511167Z"
        },
        "tags": [],
        "id": "b12ffc7e-7159-4082-91ce-b5d85192d3be",
        "colab": {
          "base_uri": "https://localhost:8080/",
          "height": 124
        },
        "outputId": "cddcf95c-c4b9-4ad7-8e83-6d58bf79f811"
      },
      "outputs": [
        {
          "output_type": "stream",
          "name": "stderr",
          "text": [
            "\u001b[34m\u001b[1mwandb\u001b[0m: \u001b[33mWARNING\u001b[0m WANDB_NOTEBOOK_NAME should be a path to a notebook file, couldn't find shopping_conversation.\n"
          ]
        },
        {
          "output_type": "display_data",
          "data": {
            "text/plain": [
              "<IPython.core.display.Javascript object>"
            ],
            "application/javascript": [
              "\n",
              "        window._wandbApiKey = new Promise((resolve, reject) => {\n",
              "            function loadScript(url) {\n",
              "            return new Promise(function(resolve, reject) {\n",
              "                let newScript = document.createElement(\"script\");\n",
              "                newScript.onerror = reject;\n",
              "                newScript.onload = resolve;\n",
              "                document.body.appendChild(newScript);\n",
              "                newScript.src = url;\n",
              "            });\n",
              "            }\n",
              "            loadScript(\"https://cdn.jsdelivr.net/npm/postmate/build/postmate.min.js\").then(() => {\n",
              "            const iframe = document.createElement('iframe')\n",
              "            iframe.style.cssText = \"width:0;height:0;border:none\"\n",
              "            document.body.appendChild(iframe)\n",
              "            const handshake = new Postmate({\n",
              "                container: iframe,\n",
              "                url: 'https://wandb.ai/authorize'\n",
              "            });\n",
              "            const timeout = setTimeout(() => reject(\"Couldn't auto authenticate\"), 5000)\n",
              "            handshake.then(function(child) {\n",
              "                child.on('authorize', data => {\n",
              "                    clearTimeout(timeout)\n",
              "                    resolve(data)\n",
              "                });\n",
              "            });\n",
              "            })\n",
              "        });\n",
              "    "
            ]
          },
          "metadata": {}
        },
        {
          "output_type": "stream",
          "name": "stderr",
          "text": [
            "\u001b[34m\u001b[1mwandb\u001b[0m: Appending key for api.wandb.ai to your netrc file: /root/.netrc\n"
          ]
        },
        {
          "output_type": "display_data",
          "data": {
            "text/plain": [
              "<IPython.core.display.HTML object>"
            ],
            "text/html": [
              "Tracking run with wandb version 0.13.5"
            ]
          },
          "metadata": {}
        },
        {
          "output_type": "display_data",
          "data": {
            "text/plain": [
              "<IPython.core.display.HTML object>"
            ],
            "text/html": [
              "Run data is saved locally in <code>/content/drive/MyDrive/Shopping/results/train/20221019_180402/wandb/run-20221124_105305-3tz5xtv5</code>"
            ]
          },
          "metadata": {}
        },
        {
          "output_type": "display_data",
          "data": {
            "text/plain": [
              "<IPython.core.display.HTML object>"
            ],
            "text/html": [
              "Syncing run <strong><a href=\"https://wandb.ai/taehoonkim/shopping_conversation/runs/3tz5xtv5\" target=\"_blank\">fresh-sun-2</a></strong> to <a href=\"https://wandb.ai/taehoonkim/shopping_conversation\" target=\"_blank\">Weights & Biases</a> (<a href=\"https://wandb.me/run\" target=\"_blank\">docs</a>)<br/>"
            ]
          },
          "metadata": {}
        }
      ],
      "source": [
        "# Wandb\n",
        "# Wandb 사용법은 11월 21일 곽대훈 멘토님의 강의를 참고하세요!\n",
        "if config.train.wandb:\n",
        "    \n",
        "    wandb_project_serial = 'shopping_conversation'\n",
        "    os.environ[\"WANDB_NOTEBOOK_NAME\"] = wandb_project_serial\n",
        "    wandb_username = 'taehoonkim' # 각자의 계정으로 수정하세요.\n",
        "    wandb.init(project=wandb_project_serial, dir=RECORDER_DIR, entity=wandb_username)\n",
        "    wandb.run.name = train_serial\n",
        "    wandb.config.update(config)\n",
        "    wandb.watch(model)\n"
      ]
    },
    {
      "cell_type": "markdown",
      "id": "a1c5b3a8-a307-4a12-ab53-e1f2a7b4ac57",
      "metadata": {
        "id": "a1c5b3a8-a307-4a12-ab53-e1f2a7b4ac57"
      },
      "source": [
        "# 10. Trainer Class 정의\n",
        "\n",
        "### 학습 파라미터 설정\n",
        "\n",
        "- [transformers Trainer 설명](https://huggingface.co/docs/transformers/main_classes/trainer)\n",
        "- [transformers TrainingArguments 파라미터 설명](https://huggingface.co/docs/transformers/v4.23.1/en/main_classes/trainer#transformers.TrainingArguments) : Training Arguments 파라미터 설명이 기술되어 있으니 참고하시어 각 파라미터가 의미하는 바를 알아보고 조정, 혹은 추가해보세요."
      ]
    },
    {
      "cell_type": "code",
      "execution_count": null,
      "id": "5069a877-a78e-4f1b-b7ef-d0fe7b0341d5",
      "metadata": {
        "execution": {
          "iopub.execute_input": "2022-10-21T01:55:04.526592Z",
          "iopub.status.busy": "2022-10-21T01:55:04.525774Z",
          "iopub.status.idle": "2022-10-21T01:55:05.850896Z",
          "shell.execute_reply": "2022-10-21T01:55:05.850002Z",
          "shell.execute_reply.started": "2022-10-21T01:55:04.526555Z"
        },
        "tags": [],
        "id": "5069a877-a78e-4f1b-b7ef-d0fe7b0341d5"
      },
      "outputs": [],
      "source": [
        "# transformers에서 Trainer를 불러와서 학습에 사용할텐데, 그때 사용할 파라미터들을 미리 지정해둔다\n",
        "\n",
        "from transformers import TrainingArguments\n",
        "\n",
        "training_args = TrainingArguments(\n",
        "    output_dir= RECORDER_DIR,  # output directory\n",
        "    num_train_epochs=config.train.num_epochs,  # total number of training epochs\n",
        "    resume_from_checkpoint = config.train.resume_weight_dir,\n",
        "    per_device_train_batch_size=config.train.train_batch_size,  # batch size per device during training\n",
        "    per_device_eval_batch_size=config.train.eval_batch_size,  # batch size for evaluation\n",
        "    warmup_ratio = config.train.warmup_proportion,\n",
        "    weight_decay=config.train.weight_decay,\n",
        "    logging_strategy = config.train.logging_strategy,\n",
        "    # logging_steps=config.train.logging_steps, # valid when logging_strategy ='steps'\n",
        "    save_strategy=config.train.save_strategy,\n",
        "    # save_steps=config.train.save_steps, # valid when save_strategy ='steps'\n",
        "    # eval_steps=config.train.eval_steps, # valid when save_strategy ='steps'\n",
        "    do_train=True, # Perform training\n",
        "    do_eval=True, # Perform evaluation\n",
        "    evaluation_strategy = config.train.evaluation_strategy, # evalute after each epoch\n",
        "    gradient_accumulation_steps = 64,  # total number of steps before back propagation\n",
        "    fp16 = config.train.fp16, # Use mixed precision\n",
        "    run_name = train_serial, # experiment name, typically used for wandb\n",
        "    report_to=\"wandb\",  # disable wandb\n",
        "    load_best_model_at_end = True,\n",
        "    overwrite_output_dir=True,\n",
        "    save_total_limit=3,\n",
        "    seed= config.train.seed  # Seed for experiment reproducibility\n",
        ")"
      ]
    },
    {
      "cell_type": "markdown",
      "id": "e918cf04-3ebf-407b-9129-a9a7e38bbdb5",
      "metadata": {
        "id": "e918cf04-3ebf-407b-9129-a9a7e38bbdb5"
      },
      "source": [
        "## 학습 "
      ]
    },
    {
      "cell_type": "code",
      "execution_count": null,
      "id": "5c7a57f5-d755-4446-854e-1db597ff6186",
      "metadata": {
        "execution": {
          "iopub.execute_input": "2022-10-21T01:55:05.853539Z",
          "iopub.status.busy": "2022-10-21T01:55:05.852658Z",
          "iopub.status.idle": "2022-10-21T01:55:05.868892Z",
          "shell.execute_reply": "2022-10-21T01:55:05.868127Z",
          "shell.execute_reply.started": "2022-10-21T01:55:05.853508Z"
        },
        "tags": [],
        "id": "5c7a57f5-d755-4446-854e-1db597ff6186"
      },
      "outputs": [],
      "source": [
        "class Run:\n",
        "\n",
        "    def __init__(self, trainer, tokenizer, training_args, test=None, submission_name = None):\n",
        "        self.trainer = trainer\n",
        "        self.tokenizer = tokenizer\n",
        "        self.training_args = training_args\n",
        "        self.test = test\n",
        "        self.submission_name = submission_name\n",
        "\n",
        "    def __call__(self):\n",
        "        if self.training_args.do_train:\n",
        "            self.train()\n",
        "\n",
        "        if self.training_args.do_eval:\n",
        "            self.validate()\n",
        "\n",
        "        if self.training_args.do_predict and self.test is not None:\n",
        "            self.predict()\n",
        "\n",
        "    def train(self):\n",
        "        self.trainer.train()\n",
        "        self.trainer.save_model()\n",
        "        if self.trainer.is_world_process_zero():\n",
        "            self.tokenizer.save_pretrained(RECORDER_DIR)\n",
        "\n",
        "    def validate(self):\n",
        "        logger.info(\"*** Evaluate ***\")\n",
        "        result = self.trainer.evaluate()\n",
        "        output_eval_file = os.path.join(RECORDER_DIR, \"eval_results.txt\")\n",
        "        if self.trainer.is_world_process_zero():\n",
        "            with open(output_eval_file, \"w\") as writer:\n",
        "                logger.info(\"***** Eval results *****\")\n",
        "                for key, value in result.items():\n",
        "                    logger.info(\"%s = %s\", key, value)\n",
        "                    writer.write(\"%s = %s\\n\" % (key, value))\n",
        "\n",
        "        logger.info(\"Validation set result : {}\".format(result))\n",
        "\n",
        "    # 추론 함수\n",
        "    def predict(self):\n",
        "        logger.info(\"*** Test ***\")\n",
        "        predictions = self.trainer.predict(test_dataset=self.test)\n",
        "        test_df['speechAct'] = self.prediction(predictions.predictions)\n",
        "        test_df.to_csv(self.submission_name, index=False)\n",
        "        test_df.sort_values(by='sentence_id', ascending=True)\n",
        "        print(\"Submission file saved as :\", self.submission_name)\n",
        "\n",
        "    def prediction(self,logit):\n",
        "        labels = np.argmax(logit, axis=1)\n",
        "        return list(map(lambda x: encoding2label[x], labels))"
      ]
    },
    {
      "cell_type": "markdown",
      "id": "41713ea4-857c-4b92-bea5-3b71acffcbe5",
      "metadata": {
        "id": "41713ea4-857c-4b92-bea5-3b71acffcbe5"
      },
      "source": [
        "# 11. Trainer 선언"
      ]
    },
    {
      "cell_type": "code",
      "execution_count": null,
      "id": "98c42f52-cebe-4e5b-be0f-0bd454eae118",
      "metadata": {
        "execution": {
          "iopub.execute_input": "2022-10-21T01:55:05.870536Z",
          "iopub.status.busy": "2022-10-21T01:55:05.870292Z",
          "iopub.status.idle": "2022-10-21T01:55:15.660404Z",
          "shell.execute_reply": "2022-10-21T01:55:15.659341Z",
          "shell.execute_reply.started": "2022-10-21T01:55:05.870513Z"
        },
        "tags": [],
        "id": "98c42f52-cebe-4e5b-be0f-0bd454eae118",
        "colab": {
          "base_uri": "https://localhost:8080/"
        },
        "outputId": "eae3f384-2c2c-403a-8684-100b0fcce5a7"
      },
      "outputs": [
        {
          "output_type": "stream",
          "name": "stderr",
          "text": [
            "Using cuda_amp half precision backend\n"
          ]
        }
      ],
      "source": [
        "# Trainer\n",
        "from transformers import Trainer\n",
        "from transformers import EarlyStoppingCallback\n",
        "\n",
        "# Set trainer\n",
        "trainer = Trainer(\n",
        "    model=model,\n",
        "    args=training_args,\n",
        "    train_dataset=train_dataset,\n",
        "    eval_dataset=val_dataset,\n",
        "    compute_metrics=compute_metrics,\n",
        "callbacks=[EarlyStoppingCallback(early_stopping_patience=config.train.early_stopping_patience)]\n",
        "\n",
        ")\n",
        "\n",
        "# Set runner\n",
        "train = Run(\n",
        "    training_args=training_args,\n",
        "    trainer=trainer,\n",
        "    tokenizer=TOKENIZER,\n",
        "    )"
      ]
    },
    {
      "cell_type": "markdown",
      "id": "249c24f0-e0a4-40cd-aabb-17c30ae48e29",
      "metadata": {
        "id": "249c24f0-e0a4-40cd-aabb-17c30ae48e29"
      },
      "source": [
        "# 12. 학습"
      ]
    },
    {
      "cell_type": "code",
      "execution_count": null,
      "id": "5a77bb51-345b-4a39-b840-014a475a2d49",
      "metadata": {
        "execution": {
          "iopub.execute_input": "2022-10-21T01:55:15.663769Z",
          "iopub.status.busy": "2022-10-21T01:55:15.662536Z",
          "iopub.status.idle": "2022-10-21T02:11:58.486536Z",
          "shell.execute_reply": "2022-10-21T02:11:58.484861Z",
          "shell.execute_reply.started": "2022-10-21T01:55:15.663737Z"
        },
        "tags": [],
        "id": "5a77bb51-345b-4a39-b840-014a475a2d49",
        "colab": {
          "base_uri": "https://localhost:8080/",
          "height": 879,
          "referenced_widgets": [
            "c4d516d0837e4ebe9ae149a79bf238ed",
            "5ab93c1b6a7d472f96e767ede8ca619b",
            "d000ec915d68452e86b22daea842ab2e",
            "5475967c913349809f1036042775be3a",
            "c782ce5ba9ca4659b447bd21354fc242",
            "7bfde5bddfe0456ca06579b51dddcf4e",
            "c77bf1634e7f47908ff56685a85d3943",
            "7af080bb771c4b9d9065a206d4b8d9a7",
            "4b56c89dbc04415b875478af28a45229",
            "61a855ed6f394f4dbb349d92c22e175c",
            "9cfdd415de9049bdbaf4f7846e6216e2"
          ]
        },
        "outputId": "12b28981-7b2c-4598-b05e-b9a4828721cd"
      },
      "outputs": [
        {
          "output_type": "stream",
          "name": "stderr",
          "text": [
            "/usr/local/lib/python3.7/dist-packages/transformers/optimization.py:310: FutureWarning: This implementation of AdamW is deprecated and will be removed in a future version. Use the PyTorch implementation torch.optim.AdamW instead, or set `no_deprecation_warning=True` to disable this warning\n",
            "  FutureWarning,\n",
            "***** Running training *****\n",
            "  Num examples = 150852\n",
            "  Num Epochs = 1\n",
            "  Instantaneous batch size per device = 32\n",
            "  Total train batch size (w. parallel, distributed & accumulation) = 2048\n",
            "  Gradient Accumulation steps = 64\n",
            "  Total optimization steps = 73\n",
            "  Number of trainable parameters = 68101646\n",
            "Automatic Weights & Biases logging enabled, to disable set os.environ[\"WANDB_DISABLED\"] = \"true\"\n",
            "***** Running Evaluation *****\n",
            "  Num examples = 37714\n",
            "  Batch size = 32\n"
          ]
        },
        {
          "output_type": "stream",
          "name": "stdout",
          "text": [
            "{'loss': 0.9925, 'learning_rate': 0.0, 'epoch': 0.99}\n"
          ]
        },
        {
          "output_type": "display_data",
          "data": {
            "text/plain": [
              "Downloading builder script:   0%|          | 0.00/6.77k [00:00<?, ?B/s]"
            ],
            "application/vnd.jupyter.widget-view+json": {
              "version_major": 2,
              "version_minor": 0,
              "model_id": "c4d516d0837e4ebe9ae149a79bf238ed"
            }
          },
          "metadata": {}
        },
        {
          "output_type": "stream",
          "name": "stderr",
          "text": [
            "Saving model checkpoint to /content/drive/MyDrive/Shopping/results/train/20221019_180402/checkpoint-73\n"
          ]
        },
        {
          "output_type": "stream",
          "name": "stdout",
          "text": [
            "{'eval_loss': 0.6336696147918701, 'eval_f1': 0.42584102225930226, 'eval_runtime': 23.8613, 'eval_samples_per_second': 1580.549, 'eval_steps_per_second': 49.41, 'epoch': 0.99}\n"
          ]
        },
        {
          "output_type": "stream",
          "name": "stderr",
          "text": [
            "Configuration saved in /content/drive/MyDrive/Shopping/results/train/20221019_180402/checkpoint-73/config.json\n",
            "Model weights saved in /content/drive/MyDrive/Shopping/results/train/20221019_180402/checkpoint-73/pytorch_model.bin\n",
            "\n",
            "\n",
            "Training completed. Do not forget to share your model on huggingface.co/models =)\n",
            "\n",
            "\n",
            "Loading best model from /content/drive/MyDrive/Shopping/results/train/20221019_180402/checkpoint-73 (score: 0.6336696147918701).\n",
            "Saving model checkpoint to /content/drive/MyDrive/Shopping/results/train/20221019_180402\n"
          ]
        },
        {
          "output_type": "stream",
          "name": "stdout",
          "text": [
            "{'train_runtime': 212.628, 'train_samples_per_second': 709.464, 'train_steps_per_second': 0.343, 'train_loss': 0.9924785666269799, 'epoch': 0.99}\n"
          ]
        },
        {
          "output_type": "stream",
          "name": "stderr",
          "text": [
            "Configuration saved in /content/drive/MyDrive/Shopping/results/train/20221019_180402/config.json\n",
            "Model weights saved in /content/drive/MyDrive/Shopping/results/train/20221019_180402/pytorch_model.bin\n",
            "tokenizer config file saved in /content/drive/MyDrive/Shopping/results/train/20221019_180402/tokenizer_config.json\n",
            "Special tokens file saved in /content/drive/MyDrive/Shopping/results/train/20221019_180402/special_tokens_map.json\n",
            "INFO:train:*** Evaluate ***\n",
            "***** Running Evaluation *****\n",
            "  Num examples = 37714\n",
            "  Batch size = 32\n"
          ]
        },
        {
          "output_type": "stream",
          "name": "stdout",
          "text": [
            "{'eval_loss': 0.6336696147918701, 'eval_f1': 0.42584102225930226, 'eval_runtime': 24.2369, 'eval_samples_per_second': 1556.054, 'eval_steps_per_second': 48.645, 'epoch': 0.99}\n"
          ]
        },
        {
          "output_type": "stream",
          "name": "stderr",
          "text": [
            "INFO:train:***** Eval results *****\n",
            "INFO:train:eval_loss = 0.6336696147918701\n",
            "INFO:train:eval_f1 = 0.42584102225930226\n",
            "INFO:train:eval_runtime = 24.2369\n",
            "INFO:train:eval_samples_per_second = 1556.054\n",
            "INFO:train:eval_steps_per_second = 48.645\n",
            "INFO:train:epoch = 0.99\n",
            "INFO:train:Validation set result : {'eval_loss': 0.6336696147918701, 'eval_f1': 0.42584102225930226, 'eval_runtime': 24.2369, 'eval_samples_per_second': 1556.054, 'eval_steps_per_second': 48.645, 'epoch': 0.99}\n"
          ]
        }
      ],
      "source": [
        "train()"
      ]
    },
    {
      "cell_type": "markdown",
      "id": "285debfc-3ce7-4390-a18d-80f201db00c6",
      "metadata": {
        "id": "285debfc-3ce7-4390-a18d-80f201db00c6"
      },
      "source": [
        "# 13. 추론 \n",
        "### 추론 config 설정"
      ]
    },
    {
      "cell_type": "code",
      "execution_count": null,
      "id": "5563f210-e27e-43d9-8976-db11c2835530",
      "metadata": {
        "execution": {
          "iopub.execute_input": "2022-10-21T02:11:58.493047Z",
          "iopub.status.busy": "2022-10-21T02:11:58.492257Z",
          "iopub.status.idle": "2022-10-21T02:11:58.510239Z",
          "shell.execute_reply": "2022-10-21T02:11:58.508730Z",
          "shell.execute_reply.started": "2022-10-21T02:11:58.492984Z"
        },
        "tags": [],
        "id": "5563f210-e27e-43d9-8976-db11c2835530"
      },
      "outputs": [],
      "source": [
        "# Load config\n",
        "predict_config_path = os.path.join(PROJECT_DIR, 'baseline', 'config', 'predict.yaml')\n",
        "predict_config = OmegaConf.load(predict_config_path)"
      ]
    },
    {
      "cell_type": "markdown",
      "id": "48db8e84-12a5-46e8-a2b9-145de1efae81",
      "metadata": {
        "id": "48db8e84-12a5-46e8-a2b9-145de1efae81"
      },
      "source": [
        "### 추론을 로깅할 디렉토리 생성"
      ]
    },
    {
      "cell_type": "code",
      "execution_count": null,
      "id": "19554fa0-94dc-429f-a746-07ea7c5bbf74",
      "metadata": {
        "execution": {
          "iopub.execute_input": "2022-10-21T02:11:58.513097Z",
          "iopub.status.busy": "2022-10-21T02:11:58.512396Z",
          "iopub.status.idle": "2022-10-21T02:11:58.523645Z",
          "shell.execute_reply": "2022-10-21T02:11:58.522569Z",
          "shell.execute_reply.started": "2022-10-21T02:11:58.513040Z"
        },
        "tags": [],
        "id": "19554fa0-94dc-429f-a746-07ea7c5bbf74"
      },
      "outputs": [],
      "source": [
        "# Serial\n",
        "if predict_config['predict']['train_serial'] is None:\n",
        "    train_serial = os.path.basename(RECORDER_DIR)\n",
        "else:\n",
        "    train_serial = predict_config['predict']['train_serial']\n",
        "    \n",
        "\n",
        "# Predict directory\n",
        "PREDICT_DIR = os.path.join(RECORDER_DIR, 'predict')\n",
        "os.makedirs(PREDICT_DIR, exist_ok=True)"
      ]
    },
    {
      "cell_type": "markdown",
      "id": "3bd89362-3398-4012-a0e9-fb2857ec3936",
      "metadata": {
        "id": "3bd89362-3398-4012-a0e9-fb2857ec3936"
      },
      "source": [
        "### 데이터 경로 지정"
      ]
    },
    {
      "cell_type": "code",
      "execution_count": null,
      "id": "3185cfc6-836d-4bf9-843b-0536e97dc19e",
      "metadata": {
        "execution": {
          "iopub.execute_input": "2022-10-21T02:11:58.526350Z",
          "iopub.status.busy": "2022-10-21T02:11:58.525756Z",
          "iopub.status.idle": "2022-10-21T02:11:58.533236Z",
          "shell.execute_reply": "2022-10-21T02:11:58.531884Z",
          "shell.execute_reply.started": "2022-10-21T02:11:58.526303Z"
        },
        "tags": [],
        "id": "3185cfc6-836d-4bf9-843b-0536e97dc19e"
      },
      "outputs": [],
      "source": [
        "# Data Directory\n",
        "DATA_DIR = predict_config['predict']['dataset_path']"
      ]
    },
    {
      "cell_type": "markdown",
      "id": "33acd73e-f0ab-42d7-b2a1-33945eeaf097",
      "metadata": {
        "execution": {
          "iopub.execute_input": "2022-08-08T04:16:17.293838Z",
          "iopub.status.busy": "2022-08-08T04:16:17.292841Z",
          "iopub.status.idle": "2022-08-08T04:16:17.301318Z",
          "shell.execute_reply": "2022-08-08T04:16:17.299570Z",
          "shell.execute_reply.started": "2022-08-08T04:16:17.293767Z"
        },
        "id": "33acd73e-f0ab-42d7-b2a1-33945eeaf097"
      },
      "source": [
        "### 테스트 데이터셋 및 데이터 로더 선언\n"
      ]
    },
    {
      "cell_type": "code",
      "execution_count": null,
      "id": "3339dd2d-8afd-4743-bb0e-dff6acfa86f7",
      "metadata": {
        "execution": {
          "iopub.execute_input": "2022-10-21T02:11:58.535488Z",
          "iopub.status.busy": "2022-10-21T02:11:58.534978Z",
          "iopub.status.idle": "2022-10-21T02:11:58.959074Z",
          "shell.execute_reply": "2022-10-21T02:11:58.958144Z",
          "shell.execute_reply.started": "2022-10-21T02:11:58.535448Z"
        },
        "tags": [],
        "id": "3339dd2d-8afd-4743-bb0e-dff6acfa86f7",
        "colab": {
          "base_uri": "https://localhost:8080/"
        },
        "outputId": "78ce6ab3-1731-4f11-f6bf-3b084e3a9cac"
      },
      "outputs": [
        {
          "output_type": "stream",
          "name": "stdout",
          "text": [
            "Test dataset:  20520\n"
          ]
        }
      ],
      "source": [
        "test_df = make_df(TEST_DIR, test=True)\n",
        "test_dataset = CustomDataset(test_df, TOKENIZER, config.train.max_seq_len, 'test')\n",
        "print(\"Test dataset: \", len(test_dataset))\n",
        "\n",
        "test_dataloader = DataLoader(dataset=test_dataset,\n",
        "                            batch_size=predict_config.predict.batch_size,\n",
        "                            num_workers=predict_config.predict.num_workers,\n",
        "                            shuffle=False,\n",
        "                            pin_memory=True,\n",
        "                            drop_last=False)"
      ]
    },
    {
      "cell_type": "code",
      "execution_count": null,
      "id": "f05fa197-1a67-4c44-b2f0-8a68ae5e2901",
      "metadata": {
        "execution": {
          "iopub.execute_input": "2022-10-21T02:11:58.961280Z",
          "iopub.status.busy": "2022-10-21T02:11:58.960808Z",
          "iopub.status.idle": "2022-10-21T02:11:58.976398Z",
          "shell.execute_reply": "2022-10-21T02:11:58.975648Z",
          "shell.execute_reply.started": "2022-10-21T02:11:58.961248Z"
        },
        "tags": [],
        "id": "f05fa197-1a67-4c44-b2f0-8a68ae5e2901",
        "colab": {
          "base_uri": "https://localhost:8080/",
          "height": 424
        },
        "outputId": "ec51b6a5-00a6-4974-d717-116ac3110a14"
      },
      "outputs": [
        {
          "output_type": "execute_result",
          "data": {
            "text/plain": [
              "            sentence_id speaker                            text\n",
              "0       test_0060.txt-0       A           고객님 환불하실 제품이 #@상품#인가요\n",
              "1       test_0060.txt-1       B                   네 #@상품#이 맞습니다\n",
              "2       test_0060.txt-2       A       주문하실 때 두 가지 상품을 같이 해주셨는데요\n",
              "3       test_0060.txt-3       A                  모두 환불 처리 해드릴까요\n",
              "4       test_0060.txt-4       B                네 두 상품 모두 환불해주세요\n",
              "...                 ...     ...                             ...\n",
              "20515  test_1039.txt-10       A      #@소속# 결제는 저희도 확인할 수 없어가지고요\n",
              "20516  test_1039.txt-11       B       무통장 입금 할려면은 간편 결제를 해야 되나요\n",
              "20517  test_1039.txt-12       A          죄송합니다 #@소속#으로 문의주셔야 해요\n",
              "20518  test_1039.txt-13       B                   이해 못 하시네 알겠어요\n",
              "20519  test_1039.txt-14       A  도움이 못 되어서 죄송합니다 #@소속# #@이름#입니다\n",
              "\n",
              "[20520 rows x 3 columns]"
            ],
            "text/html": [
              "\n",
              "  <div id=\"df-ecef924a-c737-478f-a73f-030fcee2bcc9\">\n",
              "    <div class=\"colab-df-container\">\n",
              "      <div>\n",
              "<style scoped>\n",
              "    .dataframe tbody tr th:only-of-type {\n",
              "        vertical-align: middle;\n",
              "    }\n",
              "\n",
              "    .dataframe tbody tr th {\n",
              "        vertical-align: top;\n",
              "    }\n",
              "\n",
              "    .dataframe thead th {\n",
              "        text-align: right;\n",
              "    }\n",
              "</style>\n",
              "<table border=\"1\" class=\"dataframe\">\n",
              "  <thead>\n",
              "    <tr style=\"text-align: right;\">\n",
              "      <th></th>\n",
              "      <th>sentence_id</th>\n",
              "      <th>speaker</th>\n",
              "      <th>text</th>\n",
              "    </tr>\n",
              "  </thead>\n",
              "  <tbody>\n",
              "    <tr>\n",
              "      <th>0</th>\n",
              "      <td>test_0060.txt-0</td>\n",
              "      <td>A</td>\n",
              "      <td>고객님 환불하실 제품이 #@상품#인가요</td>\n",
              "    </tr>\n",
              "    <tr>\n",
              "      <th>1</th>\n",
              "      <td>test_0060.txt-1</td>\n",
              "      <td>B</td>\n",
              "      <td>네 #@상품#이 맞습니다</td>\n",
              "    </tr>\n",
              "    <tr>\n",
              "      <th>2</th>\n",
              "      <td>test_0060.txt-2</td>\n",
              "      <td>A</td>\n",
              "      <td>주문하실 때 두 가지 상품을 같이 해주셨는데요</td>\n",
              "    </tr>\n",
              "    <tr>\n",
              "      <th>3</th>\n",
              "      <td>test_0060.txt-3</td>\n",
              "      <td>A</td>\n",
              "      <td>모두 환불 처리 해드릴까요</td>\n",
              "    </tr>\n",
              "    <tr>\n",
              "      <th>4</th>\n",
              "      <td>test_0060.txt-4</td>\n",
              "      <td>B</td>\n",
              "      <td>네 두 상품 모두 환불해주세요</td>\n",
              "    </tr>\n",
              "    <tr>\n",
              "      <th>...</th>\n",
              "      <td>...</td>\n",
              "      <td>...</td>\n",
              "      <td>...</td>\n",
              "    </tr>\n",
              "    <tr>\n",
              "      <th>20515</th>\n",
              "      <td>test_1039.txt-10</td>\n",
              "      <td>A</td>\n",
              "      <td>#@소속# 결제는 저희도 확인할 수 없어가지고요</td>\n",
              "    </tr>\n",
              "    <tr>\n",
              "      <th>20516</th>\n",
              "      <td>test_1039.txt-11</td>\n",
              "      <td>B</td>\n",
              "      <td>무통장 입금 할려면은 간편 결제를 해야 되나요</td>\n",
              "    </tr>\n",
              "    <tr>\n",
              "      <th>20517</th>\n",
              "      <td>test_1039.txt-12</td>\n",
              "      <td>A</td>\n",
              "      <td>죄송합니다 #@소속#으로 문의주셔야 해요</td>\n",
              "    </tr>\n",
              "    <tr>\n",
              "      <th>20518</th>\n",
              "      <td>test_1039.txt-13</td>\n",
              "      <td>B</td>\n",
              "      <td>이해 못 하시네 알겠어요</td>\n",
              "    </tr>\n",
              "    <tr>\n",
              "      <th>20519</th>\n",
              "      <td>test_1039.txt-14</td>\n",
              "      <td>A</td>\n",
              "      <td>도움이 못 되어서 죄송합니다 #@소속# #@이름#입니다</td>\n",
              "    </tr>\n",
              "  </tbody>\n",
              "</table>\n",
              "<p>20520 rows × 3 columns</p>\n",
              "</div>\n",
              "      <button class=\"colab-df-convert\" onclick=\"convertToInteractive('df-ecef924a-c737-478f-a73f-030fcee2bcc9')\"\n",
              "              title=\"Convert this dataframe to an interactive table.\"\n",
              "              style=\"display:none;\">\n",
              "        \n",
              "  <svg xmlns=\"http://www.w3.org/2000/svg\" height=\"24px\"viewBox=\"0 0 24 24\"\n",
              "       width=\"24px\">\n",
              "    <path d=\"M0 0h24v24H0V0z\" fill=\"none\"/>\n",
              "    <path d=\"M18.56 5.44l.94 2.06.94-2.06 2.06-.94-2.06-.94-.94-2.06-.94 2.06-2.06.94zm-11 1L8.5 8.5l.94-2.06 2.06-.94-2.06-.94L8.5 2.5l-.94 2.06-2.06.94zm10 10l.94 2.06.94-2.06 2.06-.94-2.06-.94-.94-2.06-.94 2.06-2.06.94z\"/><path d=\"M17.41 7.96l-1.37-1.37c-.4-.4-.92-.59-1.43-.59-.52 0-1.04.2-1.43.59L10.3 9.45l-7.72 7.72c-.78.78-.78 2.05 0 2.83L4 21.41c.39.39.9.59 1.41.59.51 0 1.02-.2 1.41-.59l7.78-7.78 2.81-2.81c.8-.78.8-2.07 0-2.86zM5.41 20L4 18.59l7.72-7.72 1.47 1.35L5.41 20z\"/>\n",
              "  </svg>\n",
              "      </button>\n",
              "      \n",
              "  <style>\n",
              "    .colab-df-container {\n",
              "      display:flex;\n",
              "      flex-wrap:wrap;\n",
              "      gap: 12px;\n",
              "    }\n",
              "\n",
              "    .colab-df-convert {\n",
              "      background-color: #E8F0FE;\n",
              "      border: none;\n",
              "      border-radius: 50%;\n",
              "      cursor: pointer;\n",
              "      display: none;\n",
              "      fill: #1967D2;\n",
              "      height: 32px;\n",
              "      padding: 0 0 0 0;\n",
              "      width: 32px;\n",
              "    }\n",
              "\n",
              "    .colab-df-convert:hover {\n",
              "      background-color: #E2EBFA;\n",
              "      box-shadow: 0px 1px 2px rgba(60, 64, 67, 0.3), 0px 1px 3px 1px rgba(60, 64, 67, 0.15);\n",
              "      fill: #174EA6;\n",
              "    }\n",
              "\n",
              "    [theme=dark] .colab-df-convert {\n",
              "      background-color: #3B4455;\n",
              "      fill: #D2E3FC;\n",
              "    }\n",
              "\n",
              "    [theme=dark] .colab-df-convert:hover {\n",
              "      background-color: #434B5C;\n",
              "      box-shadow: 0px 1px 3px 1px rgba(0, 0, 0, 0.15);\n",
              "      filter: drop-shadow(0px 1px 2px rgba(0, 0, 0, 0.3));\n",
              "      fill: #FFFFFF;\n",
              "    }\n",
              "  </style>\n",
              "\n",
              "      <script>\n",
              "        const buttonEl =\n",
              "          document.querySelector('#df-ecef924a-c737-478f-a73f-030fcee2bcc9 button.colab-df-convert');\n",
              "        buttonEl.style.display =\n",
              "          google.colab.kernel.accessAllowed ? 'block' : 'none';\n",
              "\n",
              "        async function convertToInteractive(key) {\n",
              "          const element = document.querySelector('#df-ecef924a-c737-478f-a73f-030fcee2bcc9');\n",
              "          const dataTable =\n",
              "            await google.colab.kernel.invokeFunction('convertToInteractive',\n",
              "                                                     [key], {});\n",
              "          if (!dataTable) return;\n",
              "\n",
              "          const docLinkHtml = 'Like what you see? Visit the ' +\n",
              "            '<a target=\"_blank\" href=https://colab.research.google.com/notebooks/data_table.ipynb>data table notebook</a>'\n",
              "            + ' to learn more about interactive tables.';\n",
              "          element.innerHTML = '';\n",
              "          dataTable['output_type'] = 'display_data';\n",
              "          await google.colab.output.renderOutput(dataTable, element);\n",
              "          const docLink = document.createElement('div');\n",
              "          docLink.innerHTML = docLinkHtml;\n",
              "          element.appendChild(docLink);\n",
              "        }\n",
              "      </script>\n",
              "    </div>\n",
              "  </div>\n",
              "  "
            ]
          },
          "metadata": {},
          "execution_count": 34
        }
      ],
      "source": [
        "test_df"
      ]
    },
    {
      "cell_type": "code",
      "execution_count": null,
      "id": "25426e0d-bae3-43d2-b9a6-30e3c30aa041",
      "metadata": {
        "execution": {
          "iopub.execute_input": "2022-10-21T02:11:58.977783Z",
          "iopub.status.busy": "2022-10-21T02:11:58.977530Z",
          "iopub.status.idle": "2022-10-21T02:11:59.957579Z",
          "shell.execute_reply": "2022-10-21T02:11:59.956618Z",
          "shell.execute_reply.started": "2022-10-21T02:11:58.977761Z"
        },
        "tags": [],
        "id": "25426e0d-bae3-43d2-b9a6-30e3c30aa041",
        "colab": {
          "base_uri": "https://localhost:8080/"
        },
        "outputId": "b3be8a21-75d9-434c-dce6-4fe4a2f3a700"
      },
      "outputs": [
        {
          "output_type": "stream",
          "name": "stderr",
          "text": [
            "loading configuration file /content/drive/MyDrive/Shopping/results/train/20221019_180402/config.json\n",
            "Model config RobertaConfig {\n",
            "  \"_name_or_path\": \"klue/roberta-small\",\n",
            "  \"architectures\": [\n",
            "    \"RobertaForSequenceClassification\"\n",
            "  ],\n",
            "  \"attention_probs_dropout_prob\": 0.1,\n",
            "  \"bos_token_id\": 0,\n",
            "  \"classifier_dropout\": null,\n",
            "  \"eos_token_id\": 2,\n",
            "  \"gradient_checkpointing\": false,\n",
            "  \"hidden_act\": \"gelu\",\n",
            "  \"hidden_dropout_prob\": 0.1,\n",
            "  \"hidden_size\": 768,\n",
            "  \"id2label\": {\n",
            "    \"0\": \"LABEL_0\",\n",
            "    \"1\": \"LABEL_1\",\n",
            "    \"2\": \"LABEL_2\",\n",
            "    \"3\": \"LABEL_3\",\n",
            "    \"4\": \"LABEL_4\",\n",
            "    \"5\": \"LABEL_5\",\n",
            "    \"6\": \"LABEL_6\",\n",
            "    \"7\": \"LABEL_7\",\n",
            "    \"8\": \"LABEL_8\",\n",
            "    \"9\": \"LABEL_9\",\n",
            "    \"10\": \"LABEL_10\",\n",
            "    \"11\": \"LABEL_11\",\n",
            "    \"12\": \"LABEL_12\",\n",
            "    \"13\": \"LABEL_13\"\n",
            "  },\n",
            "  \"initializer_range\": 0.02,\n",
            "  \"intermediate_size\": 3072,\n",
            "  \"label2id\": {\n",
            "    \"LABEL_0\": 0,\n",
            "    \"LABEL_1\": 1,\n",
            "    \"LABEL_10\": 10,\n",
            "    \"LABEL_11\": 11,\n",
            "    \"LABEL_12\": 12,\n",
            "    \"LABEL_13\": 13,\n",
            "    \"LABEL_2\": 2,\n",
            "    \"LABEL_3\": 3,\n",
            "    \"LABEL_4\": 4,\n",
            "    \"LABEL_5\": 5,\n",
            "    \"LABEL_6\": 6,\n",
            "    \"LABEL_7\": 7,\n",
            "    \"LABEL_8\": 8,\n",
            "    \"LABEL_9\": 9\n",
            "  },\n",
            "  \"layer_norm_eps\": 1e-05,\n",
            "  \"max_position_embeddings\": 514,\n",
            "  \"model_type\": \"roberta\",\n",
            "  \"num_attention_heads\": 12,\n",
            "  \"num_hidden_layers\": 6,\n",
            "  \"pad_token_id\": 1,\n",
            "  \"position_embedding_type\": \"absolute\",\n",
            "  \"problem_type\": \"single_label_classification\",\n",
            "  \"tokenizer_class\": \"BertTokenizer\",\n",
            "  \"torch_dtype\": \"float32\",\n",
            "  \"transformers_version\": \"4.24.0\",\n",
            "  \"type_vocab_size\": 1,\n",
            "  \"use_cache\": true,\n",
            "  \"vocab_size\": 32000\n",
            "}\n",
            "\n",
            "loading weights file /content/drive/MyDrive/Shopping/results/train/20221019_180402/pytorch_model.bin\n",
            "All model checkpoint weights were used when initializing RobertaForSequenceClassification.\n",
            "\n",
            "All the weights of RobertaForSequenceClassification were initialized from the model checkpoint at /content/drive/MyDrive/Shopping/results/train/20221019_180402.\n",
            "If your task is similar to the task the model of the checkpoint was trained on, you can already use RobertaForSequenceClassification for predictions without further training.\n",
            "PyTorch: setting up devices\n",
            "The default value for the training argument `--report_to` will change in v5 (from all installed integrations to none). In v5, you will need to use `--report_to all` to get the same behavior as now. You should start updating your code and make this info disappear :-).\n",
            "Using cuda_amp half precision backend\n"
          ]
        }
      ],
      "source": [
        "model = BASE_MODELS[config.model.architecture].from_pretrained(RECORDER_DIR)\n",
        "\n",
        "predicting_args = TrainingArguments(\n",
        "        run_name=train_serial,\n",
        "        disable_tqdm=False,\n",
        "        per_device_eval_batch_size = predict_config.predict.batch_size,\n",
        "        fp16=config.train.fp16,\n",
        "        gradient_accumulation_steps=64,\n",
        "        do_train=False,\n",
        "        do_eval=False,\n",
        "        do_predict=True,\n",
        "        output_dir='.',\n",
        "    )\n",
        "\n",
        "trainer_prediction = Trainer(\n",
        "    model= model,\n",
        "    args=predicting_args\n",
        ")\n",
        "\n",
        "predict = Run(\n",
        "    training_args=predicting_args,\n",
        "    trainer=trainer_prediction,\n",
        "    tokenizer=TOKENIZER,\n",
        "    test=test_dataset,\n",
        "    submission_name = predict_config.predict.submission_name\n",
        "    )"
      ]
    },
    {
      "cell_type": "markdown",
      "id": "7128ec25-87df-443c-9421-fccbb069b8c0",
      "metadata": {
        "id": "7128ec25-87df-443c-9421-fccbb069b8c0"
      },
      "source": [
        "## 추론"
      ]
    },
    {
      "cell_type": "code",
      "execution_count": null,
      "id": "bd8c58b1-b713-40b1-877f-04a04a164a7e",
      "metadata": {
        "execution": {
          "iopub.execute_input": "2022-10-21T02:11:59.960018Z",
          "iopub.status.busy": "2022-10-21T02:11:59.959560Z",
          "iopub.status.idle": "2022-10-21T02:14:24.979172Z",
          "shell.execute_reply": "2022-10-21T02:14:24.977828Z",
          "shell.execute_reply.started": "2022-10-21T02:11:59.959981Z"
        },
        "tags": [],
        "id": "bd8c58b1-b713-40b1-877f-04a04a164a7e",
        "colab": {
          "base_uri": "https://localhost:8080/",
          "height": 109
        },
        "outputId": "941d7b56-6229-4193-ae6b-3b8d0c52d921"
      },
      "outputs": [
        {
          "output_type": "stream",
          "name": "stderr",
          "text": [
            "INFO:train:*** Test ***\n",
            "***** Running Prediction *****\n",
            "  Num examples = 20520\n",
            "  Batch size = 1\n"
          ]
        },
        {
          "output_type": "display_data",
          "data": {
            "text/plain": [
              "<IPython.core.display.HTML object>"
            ],
            "text/html": []
          },
          "metadata": {}
        },
        {
          "output_type": "stream",
          "name": "stdout",
          "text": [
            "Submission file saved as : submission.csv\n"
          ]
        }
      ],
      "source": [
        "predict()"
      ]
    }
  ],
  "metadata": {
    "kernelspec": {
      "display_name": "Python 3 (ipykernel)",
      "language": "python",
      "name": "python3"
    },
    "language_info": {
      "codemirror_mode": {
        "name": "ipython",
        "version": 3
      },
      "file_extension": ".py",
      "mimetype": "text/x-python",
      "name": "python",
      "nbconvert_exporter": "python",
      "pygments_lexer": "ipython3",
      "version": "3.9.13"
    },
    "colab": {
      "provenance": [],
      "collapsed_sections": [
        "79b2fe59-0197-44ed-8ba7-68c988b2747f",
        "7ce4062a-7030-4a06-9ec1-985a9e7bd49e",
        "dIiEaoZLN-qY",
        "d3522ede-dcec-4a26-8cc1-b7e03ad5faf9",
        "abca2710-8f81-42f8-aeaf-6d6ea8b56dce",
        "48db8e84-12a5-46e8-a2b9-145de1efae81",
        "3bd89362-3398-4012-a0e9-fb2857ec3936",
        "33acd73e-f0ab-42d7-b2a1-33945eeaf097"
      ]
    },
    "accelerator": "GPU",
    "gpuClass": "premium",
    "widgets": {
      "application/vnd.jupyter.widget-state+json": {
        "1d0390e9b8f54df598193ef6e266deb2": {
          "model_module": "@jupyter-widgets/controls",
          "model_name": "HBoxModel",
          "model_module_version": "1.5.0",
          "state": {
            "_dom_classes": [],
            "_model_module": "@jupyter-widgets/controls",
            "_model_module_version": "1.5.0",
            "_model_name": "HBoxModel",
            "_view_count": null,
            "_view_module": "@jupyter-widgets/controls",
            "_view_module_version": "1.5.0",
            "_view_name": "HBoxView",
            "box_style": "",
            "children": [
              "IPY_MODEL_656290d42a8f40c9bd0bdd18e8505b89",
              "IPY_MODEL_48de52aa46464473b1579ee04582fd2f",
              "IPY_MODEL_7066de06d5474a838672af82d906310d"
            ],
            "layout": "IPY_MODEL_4f31aaa8adaa45b5b7b2e11312cabc7a"
          }
        },
        "656290d42a8f40c9bd0bdd18e8505b89": {
          "model_module": "@jupyter-widgets/controls",
          "model_name": "HTMLModel",
          "model_module_version": "1.5.0",
          "state": {
            "_dom_classes": [],
            "_model_module": "@jupyter-widgets/controls",
            "_model_module_version": "1.5.0",
            "_model_name": "HTMLModel",
            "_view_count": null,
            "_view_module": "@jupyter-widgets/controls",
            "_view_module_version": "1.5.0",
            "_view_name": "HTMLView",
            "description": "",
            "description_tooltip": null,
            "layout": "IPY_MODEL_91cba68d91ed484cbb2da8d40c54fa59",
            "placeholder": "​",
            "style": "IPY_MODEL_de6ed8ff6c25421482f89987165bade8",
            "value": "Downloading: 100%"
          }
        },
        "48de52aa46464473b1579ee04582fd2f": {
          "model_module": "@jupyter-widgets/controls",
          "model_name": "FloatProgressModel",
          "model_module_version": "1.5.0",
          "state": {
            "_dom_classes": [],
            "_model_module": "@jupyter-widgets/controls",
            "_model_module_version": "1.5.0",
            "_model_name": "FloatProgressModel",
            "_view_count": null,
            "_view_module": "@jupyter-widgets/controls",
            "_view_module_version": "1.5.0",
            "_view_name": "ProgressView",
            "bar_style": "success",
            "description": "",
            "description_tooltip": null,
            "layout": "IPY_MODEL_63feb5bf8fb1408a83a19b03131c5975",
            "max": 248477,
            "min": 0,
            "orientation": "horizontal",
            "style": "IPY_MODEL_2c0db7e2da8e45ec867ec52e6d8c237f",
            "value": 248477
          }
        },
        "7066de06d5474a838672af82d906310d": {
          "model_module": "@jupyter-widgets/controls",
          "model_name": "HTMLModel",
          "model_module_version": "1.5.0",
          "state": {
            "_dom_classes": [],
            "_model_module": "@jupyter-widgets/controls",
            "_model_module_version": "1.5.0",
            "_model_name": "HTMLModel",
            "_view_count": null,
            "_view_module": "@jupyter-widgets/controls",
            "_view_module_version": "1.5.0",
            "_view_name": "HTMLView",
            "description": "",
            "description_tooltip": null,
            "layout": "IPY_MODEL_44eaa889213848daaf2440af767be004",
            "placeholder": "​",
            "style": "IPY_MODEL_def3933df70b4d9cbdc5a74fe5ca9932",
            "value": " 248k/248k [00:00&lt;00:00, 1.71MB/s]"
          }
        },
        "4f31aaa8adaa45b5b7b2e11312cabc7a": {
          "model_module": "@jupyter-widgets/base",
          "model_name": "LayoutModel",
          "model_module_version": "1.2.0",
          "state": {
            "_model_module": "@jupyter-widgets/base",
            "_model_module_version": "1.2.0",
            "_model_name": "LayoutModel",
            "_view_count": null,
            "_view_module": "@jupyter-widgets/base",
            "_view_module_version": "1.2.0",
            "_view_name": "LayoutView",
            "align_content": null,
            "align_items": null,
            "align_self": null,
            "border": null,
            "bottom": null,
            "display": null,
            "flex": null,
            "flex_flow": null,
            "grid_area": null,
            "grid_auto_columns": null,
            "grid_auto_flow": null,
            "grid_auto_rows": null,
            "grid_column": null,
            "grid_gap": null,
            "grid_row": null,
            "grid_template_areas": null,
            "grid_template_columns": null,
            "grid_template_rows": null,
            "height": null,
            "justify_content": null,
            "justify_items": null,
            "left": null,
            "margin": null,
            "max_height": null,
            "max_width": null,
            "min_height": null,
            "min_width": null,
            "object_fit": null,
            "object_position": null,
            "order": null,
            "overflow": null,
            "overflow_x": null,
            "overflow_y": null,
            "padding": null,
            "right": null,
            "top": null,
            "visibility": null,
            "width": null
          }
        },
        "91cba68d91ed484cbb2da8d40c54fa59": {
          "model_module": "@jupyter-widgets/base",
          "model_name": "LayoutModel",
          "model_module_version": "1.2.0",
          "state": {
            "_model_module": "@jupyter-widgets/base",
            "_model_module_version": "1.2.0",
            "_model_name": "LayoutModel",
            "_view_count": null,
            "_view_module": "@jupyter-widgets/base",
            "_view_module_version": "1.2.0",
            "_view_name": "LayoutView",
            "align_content": null,
            "align_items": null,
            "align_self": null,
            "border": null,
            "bottom": null,
            "display": null,
            "flex": null,
            "flex_flow": null,
            "grid_area": null,
            "grid_auto_columns": null,
            "grid_auto_flow": null,
            "grid_auto_rows": null,
            "grid_column": null,
            "grid_gap": null,
            "grid_row": null,
            "grid_template_areas": null,
            "grid_template_columns": null,
            "grid_template_rows": null,
            "height": null,
            "justify_content": null,
            "justify_items": null,
            "left": null,
            "margin": null,
            "max_height": null,
            "max_width": null,
            "min_height": null,
            "min_width": null,
            "object_fit": null,
            "object_position": null,
            "order": null,
            "overflow": null,
            "overflow_x": null,
            "overflow_y": null,
            "padding": null,
            "right": null,
            "top": null,
            "visibility": null,
            "width": null
          }
        },
        "de6ed8ff6c25421482f89987165bade8": {
          "model_module": "@jupyter-widgets/controls",
          "model_name": "DescriptionStyleModel",
          "model_module_version": "1.5.0",
          "state": {
            "_model_module": "@jupyter-widgets/controls",
            "_model_module_version": "1.5.0",
            "_model_name": "DescriptionStyleModel",
            "_view_count": null,
            "_view_module": "@jupyter-widgets/base",
            "_view_module_version": "1.2.0",
            "_view_name": "StyleView",
            "description_width": ""
          }
        },
        "63feb5bf8fb1408a83a19b03131c5975": {
          "model_module": "@jupyter-widgets/base",
          "model_name": "LayoutModel",
          "model_module_version": "1.2.0",
          "state": {
            "_model_module": "@jupyter-widgets/base",
            "_model_module_version": "1.2.0",
            "_model_name": "LayoutModel",
            "_view_count": null,
            "_view_module": "@jupyter-widgets/base",
            "_view_module_version": "1.2.0",
            "_view_name": "LayoutView",
            "align_content": null,
            "align_items": null,
            "align_self": null,
            "border": null,
            "bottom": null,
            "display": null,
            "flex": null,
            "flex_flow": null,
            "grid_area": null,
            "grid_auto_columns": null,
            "grid_auto_flow": null,
            "grid_auto_rows": null,
            "grid_column": null,
            "grid_gap": null,
            "grid_row": null,
            "grid_template_areas": null,
            "grid_template_columns": null,
            "grid_template_rows": null,
            "height": null,
            "justify_content": null,
            "justify_items": null,
            "left": null,
            "margin": null,
            "max_height": null,
            "max_width": null,
            "min_height": null,
            "min_width": null,
            "object_fit": null,
            "object_position": null,
            "order": null,
            "overflow": null,
            "overflow_x": null,
            "overflow_y": null,
            "padding": null,
            "right": null,
            "top": null,
            "visibility": null,
            "width": null
          }
        },
        "2c0db7e2da8e45ec867ec52e6d8c237f": {
          "model_module": "@jupyter-widgets/controls",
          "model_name": "ProgressStyleModel",
          "model_module_version": "1.5.0",
          "state": {
            "_model_module": "@jupyter-widgets/controls",
            "_model_module_version": "1.5.0",
            "_model_name": "ProgressStyleModel",
            "_view_count": null,
            "_view_module": "@jupyter-widgets/base",
            "_view_module_version": "1.2.0",
            "_view_name": "StyleView",
            "bar_color": null,
            "description_width": ""
          }
        },
        "44eaa889213848daaf2440af767be004": {
          "model_module": "@jupyter-widgets/base",
          "model_name": "LayoutModel",
          "model_module_version": "1.2.0",
          "state": {
            "_model_module": "@jupyter-widgets/base",
            "_model_module_version": "1.2.0",
            "_model_name": "LayoutModel",
            "_view_count": null,
            "_view_module": "@jupyter-widgets/base",
            "_view_module_version": "1.2.0",
            "_view_name": "LayoutView",
            "align_content": null,
            "align_items": null,
            "align_self": null,
            "border": null,
            "bottom": null,
            "display": null,
            "flex": null,
            "flex_flow": null,
            "grid_area": null,
            "grid_auto_columns": null,
            "grid_auto_flow": null,
            "grid_auto_rows": null,
            "grid_column": null,
            "grid_gap": null,
            "grid_row": null,
            "grid_template_areas": null,
            "grid_template_columns": null,
            "grid_template_rows": null,
            "height": null,
            "justify_content": null,
            "justify_items": null,
            "left": null,
            "margin": null,
            "max_height": null,
            "max_width": null,
            "min_height": null,
            "min_width": null,
            "object_fit": null,
            "object_position": null,
            "order": null,
            "overflow": null,
            "overflow_x": null,
            "overflow_y": null,
            "padding": null,
            "right": null,
            "top": null,
            "visibility": null,
            "width": null
          }
        },
        "def3933df70b4d9cbdc5a74fe5ca9932": {
          "model_module": "@jupyter-widgets/controls",
          "model_name": "DescriptionStyleModel",
          "model_module_version": "1.5.0",
          "state": {
            "_model_module": "@jupyter-widgets/controls",
            "_model_module_version": "1.5.0",
            "_model_name": "DescriptionStyleModel",
            "_view_count": null,
            "_view_module": "@jupyter-widgets/base",
            "_view_module_version": "1.2.0",
            "_view_name": "StyleView",
            "description_width": ""
          }
        },
        "a152cbbb4a5c4e0d9508f66cdc615325": {
          "model_module": "@jupyter-widgets/controls",
          "model_name": "HBoxModel",
          "model_module_version": "1.5.0",
          "state": {
            "_dom_classes": [],
            "_model_module": "@jupyter-widgets/controls",
            "_model_module_version": "1.5.0",
            "_model_name": "HBoxModel",
            "_view_count": null,
            "_view_module": "@jupyter-widgets/controls",
            "_view_module_version": "1.5.0",
            "_view_name": "HBoxView",
            "box_style": "",
            "children": [
              "IPY_MODEL_71ccf5adc57e45e0a2cf499ae3f77ff5",
              "IPY_MODEL_022c48788a5247ac9854545f7711b376",
              "IPY_MODEL_31a92a58d03d493ab3c485865b6c7989"
            ],
            "layout": "IPY_MODEL_16b27d5367d249e686f5f7f88e3407b0"
          }
        },
        "71ccf5adc57e45e0a2cf499ae3f77ff5": {
          "model_module": "@jupyter-widgets/controls",
          "model_name": "HTMLModel",
          "model_module_version": "1.5.0",
          "state": {
            "_dom_classes": [],
            "_model_module": "@jupyter-widgets/controls",
            "_model_module_version": "1.5.0",
            "_model_name": "HTMLModel",
            "_view_count": null,
            "_view_module": "@jupyter-widgets/controls",
            "_view_module_version": "1.5.0",
            "_view_name": "HTMLView",
            "description": "",
            "description_tooltip": null,
            "layout": "IPY_MODEL_01de8eded90a440fbe938d38d193b82f",
            "placeholder": "​",
            "style": "IPY_MODEL_0b117568bb2044978fe0bc450b17e46d",
            "value": "Downloading: 100%"
          }
        },
        "022c48788a5247ac9854545f7711b376": {
          "model_module": "@jupyter-widgets/controls",
          "model_name": "FloatProgressModel",
          "model_module_version": "1.5.0",
          "state": {
            "_dom_classes": [],
            "_model_module": "@jupyter-widgets/controls",
            "_model_module_version": "1.5.0",
            "_model_name": "FloatProgressModel",
            "_view_count": null,
            "_view_module": "@jupyter-widgets/controls",
            "_view_module_version": "1.5.0",
            "_view_name": "ProgressView",
            "bar_style": "success",
            "description": "",
            "description_tooltip": null,
            "layout": "IPY_MODEL_2aa1c7c4d5a0467a917ce934b257d229",
            "max": 173,
            "min": 0,
            "orientation": "horizontal",
            "style": "IPY_MODEL_c7be5bd712344bfd9bd86b5c60e7715b",
            "value": 173
          }
        },
        "31a92a58d03d493ab3c485865b6c7989": {
          "model_module": "@jupyter-widgets/controls",
          "model_name": "HTMLModel",
          "model_module_version": "1.5.0",
          "state": {
            "_dom_classes": [],
            "_model_module": "@jupyter-widgets/controls",
            "_model_module_version": "1.5.0",
            "_model_name": "HTMLModel",
            "_view_count": null,
            "_view_module": "@jupyter-widgets/controls",
            "_view_module_version": "1.5.0",
            "_view_name": "HTMLView",
            "description": "",
            "description_tooltip": null,
            "layout": "IPY_MODEL_39db37ed50ae4d748f21ff20ec381fdc",
            "placeholder": "​",
            "style": "IPY_MODEL_d79651014dff4c32b11c1d521d79df09",
            "value": " 173/173 [00:00&lt;00:00, 6.45kB/s]"
          }
        },
        "16b27d5367d249e686f5f7f88e3407b0": {
          "model_module": "@jupyter-widgets/base",
          "model_name": "LayoutModel",
          "model_module_version": "1.2.0",
          "state": {
            "_model_module": "@jupyter-widgets/base",
            "_model_module_version": "1.2.0",
            "_model_name": "LayoutModel",
            "_view_count": null,
            "_view_module": "@jupyter-widgets/base",
            "_view_module_version": "1.2.0",
            "_view_name": "LayoutView",
            "align_content": null,
            "align_items": null,
            "align_self": null,
            "border": null,
            "bottom": null,
            "display": null,
            "flex": null,
            "flex_flow": null,
            "grid_area": null,
            "grid_auto_columns": null,
            "grid_auto_flow": null,
            "grid_auto_rows": null,
            "grid_column": null,
            "grid_gap": null,
            "grid_row": null,
            "grid_template_areas": null,
            "grid_template_columns": null,
            "grid_template_rows": null,
            "height": null,
            "justify_content": null,
            "justify_items": null,
            "left": null,
            "margin": null,
            "max_height": null,
            "max_width": null,
            "min_height": null,
            "min_width": null,
            "object_fit": null,
            "object_position": null,
            "order": null,
            "overflow": null,
            "overflow_x": null,
            "overflow_y": null,
            "padding": null,
            "right": null,
            "top": null,
            "visibility": null,
            "width": null
          }
        },
        "01de8eded90a440fbe938d38d193b82f": {
          "model_module": "@jupyter-widgets/base",
          "model_name": "LayoutModel",
          "model_module_version": "1.2.0",
          "state": {
            "_model_module": "@jupyter-widgets/base",
            "_model_module_version": "1.2.0",
            "_model_name": "LayoutModel",
            "_view_count": null,
            "_view_module": "@jupyter-widgets/base",
            "_view_module_version": "1.2.0",
            "_view_name": "LayoutView",
            "align_content": null,
            "align_items": null,
            "align_self": null,
            "border": null,
            "bottom": null,
            "display": null,
            "flex": null,
            "flex_flow": null,
            "grid_area": null,
            "grid_auto_columns": null,
            "grid_auto_flow": null,
            "grid_auto_rows": null,
            "grid_column": null,
            "grid_gap": null,
            "grid_row": null,
            "grid_template_areas": null,
            "grid_template_columns": null,
            "grid_template_rows": null,
            "height": null,
            "justify_content": null,
            "justify_items": null,
            "left": null,
            "margin": null,
            "max_height": null,
            "max_width": null,
            "min_height": null,
            "min_width": null,
            "object_fit": null,
            "object_position": null,
            "order": null,
            "overflow": null,
            "overflow_x": null,
            "overflow_y": null,
            "padding": null,
            "right": null,
            "top": null,
            "visibility": null,
            "width": null
          }
        },
        "0b117568bb2044978fe0bc450b17e46d": {
          "model_module": "@jupyter-widgets/controls",
          "model_name": "DescriptionStyleModel",
          "model_module_version": "1.5.0",
          "state": {
            "_model_module": "@jupyter-widgets/controls",
            "_model_module_version": "1.5.0",
            "_model_name": "DescriptionStyleModel",
            "_view_count": null,
            "_view_module": "@jupyter-widgets/base",
            "_view_module_version": "1.2.0",
            "_view_name": "StyleView",
            "description_width": ""
          }
        },
        "2aa1c7c4d5a0467a917ce934b257d229": {
          "model_module": "@jupyter-widgets/base",
          "model_name": "LayoutModel",
          "model_module_version": "1.2.0",
          "state": {
            "_model_module": "@jupyter-widgets/base",
            "_model_module_version": "1.2.0",
            "_model_name": "LayoutModel",
            "_view_count": null,
            "_view_module": "@jupyter-widgets/base",
            "_view_module_version": "1.2.0",
            "_view_name": "LayoutView",
            "align_content": null,
            "align_items": null,
            "align_self": null,
            "border": null,
            "bottom": null,
            "display": null,
            "flex": null,
            "flex_flow": null,
            "grid_area": null,
            "grid_auto_columns": null,
            "grid_auto_flow": null,
            "grid_auto_rows": null,
            "grid_column": null,
            "grid_gap": null,
            "grid_row": null,
            "grid_template_areas": null,
            "grid_template_columns": null,
            "grid_template_rows": null,
            "height": null,
            "justify_content": null,
            "justify_items": null,
            "left": null,
            "margin": null,
            "max_height": null,
            "max_width": null,
            "min_height": null,
            "min_width": null,
            "object_fit": null,
            "object_position": null,
            "order": null,
            "overflow": null,
            "overflow_x": null,
            "overflow_y": null,
            "padding": null,
            "right": null,
            "top": null,
            "visibility": null,
            "width": null
          }
        },
        "c7be5bd712344bfd9bd86b5c60e7715b": {
          "model_module": "@jupyter-widgets/controls",
          "model_name": "ProgressStyleModel",
          "model_module_version": "1.5.0",
          "state": {
            "_model_module": "@jupyter-widgets/controls",
            "_model_module_version": "1.5.0",
            "_model_name": "ProgressStyleModel",
            "_view_count": null,
            "_view_module": "@jupyter-widgets/base",
            "_view_module_version": "1.2.0",
            "_view_name": "StyleView",
            "bar_color": null,
            "description_width": ""
          }
        },
        "39db37ed50ae4d748f21ff20ec381fdc": {
          "model_module": "@jupyter-widgets/base",
          "model_name": "LayoutModel",
          "model_module_version": "1.2.0",
          "state": {
            "_model_module": "@jupyter-widgets/base",
            "_model_module_version": "1.2.0",
            "_model_name": "LayoutModel",
            "_view_count": null,
            "_view_module": "@jupyter-widgets/base",
            "_view_module_version": "1.2.0",
            "_view_name": "LayoutView",
            "align_content": null,
            "align_items": null,
            "align_self": null,
            "border": null,
            "bottom": null,
            "display": null,
            "flex": null,
            "flex_flow": null,
            "grid_area": null,
            "grid_auto_columns": null,
            "grid_auto_flow": null,
            "grid_auto_rows": null,
            "grid_column": null,
            "grid_gap": null,
            "grid_row": null,
            "grid_template_areas": null,
            "grid_template_columns": null,
            "grid_template_rows": null,
            "height": null,
            "justify_content": null,
            "justify_items": null,
            "left": null,
            "margin": null,
            "max_height": null,
            "max_width": null,
            "min_height": null,
            "min_width": null,
            "object_fit": null,
            "object_position": null,
            "order": null,
            "overflow": null,
            "overflow_x": null,
            "overflow_y": null,
            "padding": null,
            "right": null,
            "top": null,
            "visibility": null,
            "width": null
          }
        },
        "d79651014dff4c32b11c1d521d79df09": {
          "model_module": "@jupyter-widgets/controls",
          "model_name": "DescriptionStyleModel",
          "model_module_version": "1.5.0",
          "state": {
            "_model_module": "@jupyter-widgets/controls",
            "_model_module_version": "1.5.0",
            "_model_name": "DescriptionStyleModel",
            "_view_count": null,
            "_view_module": "@jupyter-widgets/base",
            "_view_module_version": "1.2.0",
            "_view_name": "StyleView",
            "description_width": ""
          }
        },
        "86e9ef4abe1048588d862be12391d1fb": {
          "model_module": "@jupyter-widgets/controls",
          "model_name": "HBoxModel",
          "model_module_version": "1.5.0",
          "state": {
            "_dom_classes": [],
            "_model_module": "@jupyter-widgets/controls",
            "_model_module_version": "1.5.0",
            "_model_name": "HBoxModel",
            "_view_count": null,
            "_view_module": "@jupyter-widgets/controls",
            "_view_module_version": "1.5.0",
            "_view_name": "HBoxView",
            "box_style": "",
            "children": [
              "IPY_MODEL_80c86e66e6b94cea8cec388c1fb10c20",
              "IPY_MODEL_1aae24e9abab430f896f7132f9f75e36",
              "IPY_MODEL_96da7535f70541d4b531b99afddd1148"
            ],
            "layout": "IPY_MODEL_5e870a0d5bde4f158ba6dde8a0376549"
          }
        },
        "80c86e66e6b94cea8cec388c1fb10c20": {
          "model_module": "@jupyter-widgets/controls",
          "model_name": "HTMLModel",
          "model_module_version": "1.5.0",
          "state": {
            "_dom_classes": [],
            "_model_module": "@jupyter-widgets/controls",
            "_model_module_version": "1.5.0",
            "_model_name": "HTMLModel",
            "_view_count": null,
            "_view_module": "@jupyter-widgets/controls",
            "_view_module_version": "1.5.0",
            "_view_name": "HTMLView",
            "description": "",
            "description_tooltip": null,
            "layout": "IPY_MODEL_6ef62ef97c30482693e014b01f440004",
            "placeholder": "​",
            "style": "IPY_MODEL_ecd7153f55a9459789f4c471f478bcbc",
            "value": "Downloading: 100%"
          }
        },
        "1aae24e9abab430f896f7132f9f75e36": {
          "model_module": "@jupyter-widgets/controls",
          "model_name": "FloatProgressModel",
          "model_module_version": "1.5.0",
          "state": {
            "_dom_classes": [],
            "_model_module": "@jupyter-widgets/controls",
            "_model_module_version": "1.5.0",
            "_model_name": "FloatProgressModel",
            "_view_count": null,
            "_view_module": "@jupyter-widgets/controls",
            "_view_module_version": "1.5.0",
            "_view_name": "ProgressView",
            "bar_style": "success",
            "description": "",
            "description_tooltip": null,
            "layout": "IPY_MODEL_0e919f9641414f9eb76bfda2c0b463e9",
            "max": 375,
            "min": 0,
            "orientation": "horizontal",
            "style": "IPY_MODEL_71f9fec5c7984579a05364768696d66f",
            "value": 375
          }
        },
        "96da7535f70541d4b531b99afddd1148": {
          "model_module": "@jupyter-widgets/controls",
          "model_name": "HTMLModel",
          "model_module_version": "1.5.0",
          "state": {
            "_dom_classes": [],
            "_model_module": "@jupyter-widgets/controls",
            "_model_module_version": "1.5.0",
            "_model_name": "HTMLModel",
            "_view_count": null,
            "_view_module": "@jupyter-widgets/controls",
            "_view_module_version": "1.5.0",
            "_view_name": "HTMLView",
            "description": "",
            "description_tooltip": null,
            "layout": "IPY_MODEL_fbeee328eae141fc8fd26e60d5852fe1",
            "placeholder": "​",
            "style": "IPY_MODEL_29ea8fd0f78a4d979b8ebf00ca773ae7",
            "value": " 375/375 [00:00&lt;00:00, 14.3kB/s]"
          }
        },
        "5e870a0d5bde4f158ba6dde8a0376549": {
          "model_module": "@jupyter-widgets/base",
          "model_name": "LayoutModel",
          "model_module_version": "1.2.0",
          "state": {
            "_model_module": "@jupyter-widgets/base",
            "_model_module_version": "1.2.0",
            "_model_name": "LayoutModel",
            "_view_count": null,
            "_view_module": "@jupyter-widgets/base",
            "_view_module_version": "1.2.0",
            "_view_name": "LayoutView",
            "align_content": null,
            "align_items": null,
            "align_self": null,
            "border": null,
            "bottom": null,
            "display": null,
            "flex": null,
            "flex_flow": null,
            "grid_area": null,
            "grid_auto_columns": null,
            "grid_auto_flow": null,
            "grid_auto_rows": null,
            "grid_column": null,
            "grid_gap": null,
            "grid_row": null,
            "grid_template_areas": null,
            "grid_template_columns": null,
            "grid_template_rows": null,
            "height": null,
            "justify_content": null,
            "justify_items": null,
            "left": null,
            "margin": null,
            "max_height": null,
            "max_width": null,
            "min_height": null,
            "min_width": null,
            "object_fit": null,
            "object_position": null,
            "order": null,
            "overflow": null,
            "overflow_x": null,
            "overflow_y": null,
            "padding": null,
            "right": null,
            "top": null,
            "visibility": null,
            "width": null
          }
        },
        "6ef62ef97c30482693e014b01f440004": {
          "model_module": "@jupyter-widgets/base",
          "model_name": "LayoutModel",
          "model_module_version": "1.2.0",
          "state": {
            "_model_module": "@jupyter-widgets/base",
            "_model_module_version": "1.2.0",
            "_model_name": "LayoutModel",
            "_view_count": null,
            "_view_module": "@jupyter-widgets/base",
            "_view_module_version": "1.2.0",
            "_view_name": "LayoutView",
            "align_content": null,
            "align_items": null,
            "align_self": null,
            "border": null,
            "bottom": null,
            "display": null,
            "flex": null,
            "flex_flow": null,
            "grid_area": null,
            "grid_auto_columns": null,
            "grid_auto_flow": null,
            "grid_auto_rows": null,
            "grid_column": null,
            "grid_gap": null,
            "grid_row": null,
            "grid_template_areas": null,
            "grid_template_columns": null,
            "grid_template_rows": null,
            "height": null,
            "justify_content": null,
            "justify_items": null,
            "left": null,
            "margin": null,
            "max_height": null,
            "max_width": null,
            "min_height": null,
            "min_width": null,
            "object_fit": null,
            "object_position": null,
            "order": null,
            "overflow": null,
            "overflow_x": null,
            "overflow_y": null,
            "padding": null,
            "right": null,
            "top": null,
            "visibility": null,
            "width": null
          }
        },
        "ecd7153f55a9459789f4c471f478bcbc": {
          "model_module": "@jupyter-widgets/controls",
          "model_name": "DescriptionStyleModel",
          "model_module_version": "1.5.0",
          "state": {
            "_model_module": "@jupyter-widgets/controls",
            "_model_module_version": "1.5.0",
            "_model_name": "DescriptionStyleModel",
            "_view_count": null,
            "_view_module": "@jupyter-widgets/base",
            "_view_module_version": "1.2.0",
            "_view_name": "StyleView",
            "description_width": ""
          }
        },
        "0e919f9641414f9eb76bfda2c0b463e9": {
          "model_module": "@jupyter-widgets/base",
          "model_name": "LayoutModel",
          "model_module_version": "1.2.0",
          "state": {
            "_model_module": "@jupyter-widgets/base",
            "_model_module_version": "1.2.0",
            "_model_name": "LayoutModel",
            "_view_count": null,
            "_view_module": "@jupyter-widgets/base",
            "_view_module_version": "1.2.0",
            "_view_name": "LayoutView",
            "align_content": null,
            "align_items": null,
            "align_self": null,
            "border": null,
            "bottom": null,
            "display": null,
            "flex": null,
            "flex_flow": null,
            "grid_area": null,
            "grid_auto_columns": null,
            "grid_auto_flow": null,
            "grid_auto_rows": null,
            "grid_column": null,
            "grid_gap": null,
            "grid_row": null,
            "grid_template_areas": null,
            "grid_template_columns": null,
            "grid_template_rows": null,
            "height": null,
            "justify_content": null,
            "justify_items": null,
            "left": null,
            "margin": null,
            "max_height": null,
            "max_width": null,
            "min_height": null,
            "min_width": null,
            "object_fit": null,
            "object_position": null,
            "order": null,
            "overflow": null,
            "overflow_x": null,
            "overflow_y": null,
            "padding": null,
            "right": null,
            "top": null,
            "visibility": null,
            "width": null
          }
        },
        "71f9fec5c7984579a05364768696d66f": {
          "model_module": "@jupyter-widgets/controls",
          "model_name": "ProgressStyleModel",
          "model_module_version": "1.5.0",
          "state": {
            "_model_module": "@jupyter-widgets/controls",
            "_model_module_version": "1.5.0",
            "_model_name": "ProgressStyleModel",
            "_view_count": null,
            "_view_module": "@jupyter-widgets/base",
            "_view_module_version": "1.2.0",
            "_view_name": "StyleView",
            "bar_color": null,
            "description_width": ""
          }
        },
        "fbeee328eae141fc8fd26e60d5852fe1": {
          "model_module": "@jupyter-widgets/base",
          "model_name": "LayoutModel",
          "model_module_version": "1.2.0",
          "state": {
            "_model_module": "@jupyter-widgets/base",
            "_model_module_version": "1.2.0",
            "_model_name": "LayoutModel",
            "_view_count": null,
            "_view_module": "@jupyter-widgets/base",
            "_view_module_version": "1.2.0",
            "_view_name": "LayoutView",
            "align_content": null,
            "align_items": null,
            "align_self": null,
            "border": null,
            "bottom": null,
            "display": null,
            "flex": null,
            "flex_flow": null,
            "grid_area": null,
            "grid_auto_columns": null,
            "grid_auto_flow": null,
            "grid_auto_rows": null,
            "grid_column": null,
            "grid_gap": null,
            "grid_row": null,
            "grid_template_areas": null,
            "grid_template_columns": null,
            "grid_template_rows": null,
            "height": null,
            "justify_content": null,
            "justify_items": null,
            "left": null,
            "margin": null,
            "max_height": null,
            "max_width": null,
            "min_height": null,
            "min_width": null,
            "object_fit": null,
            "object_position": null,
            "order": null,
            "overflow": null,
            "overflow_x": null,
            "overflow_y": null,
            "padding": null,
            "right": null,
            "top": null,
            "visibility": null,
            "width": null
          }
        },
        "29ea8fd0f78a4d979b8ebf00ca773ae7": {
          "model_module": "@jupyter-widgets/controls",
          "model_name": "DescriptionStyleModel",
          "model_module_version": "1.5.0",
          "state": {
            "_model_module": "@jupyter-widgets/controls",
            "_model_module_version": "1.5.0",
            "_model_name": "DescriptionStyleModel",
            "_view_count": null,
            "_view_module": "@jupyter-widgets/base",
            "_view_module_version": "1.2.0",
            "_view_name": "StyleView",
            "description_width": ""
          }
        },
        "4aafa67497d94619bd982d374353cb75": {
          "model_module": "@jupyter-widgets/controls",
          "model_name": "HBoxModel",
          "model_module_version": "1.5.0",
          "state": {
            "_dom_classes": [],
            "_model_module": "@jupyter-widgets/controls",
            "_model_module_version": "1.5.0",
            "_model_name": "HBoxModel",
            "_view_count": null,
            "_view_module": "@jupyter-widgets/controls",
            "_view_module_version": "1.5.0",
            "_view_name": "HBoxView",
            "box_style": "",
            "children": [
              "IPY_MODEL_02c9aac7a7d7475fb0fe0f80cea1fe11",
              "IPY_MODEL_964cb72bc97e477087977c965187809f",
              "IPY_MODEL_3a387836df404ab6b40206c27674dafe"
            ],
            "layout": "IPY_MODEL_b178b088f28b43c4bc4cc8e0c45cf5b2"
          }
        },
        "02c9aac7a7d7475fb0fe0f80cea1fe11": {
          "model_module": "@jupyter-widgets/controls",
          "model_name": "HTMLModel",
          "model_module_version": "1.5.0",
          "state": {
            "_dom_classes": [],
            "_model_module": "@jupyter-widgets/controls",
            "_model_module_version": "1.5.0",
            "_model_name": "HTMLModel",
            "_view_count": null,
            "_view_module": "@jupyter-widgets/controls",
            "_view_module_version": "1.5.0",
            "_view_name": "HTMLView",
            "description": "",
            "description_tooltip": null,
            "layout": "IPY_MODEL_4a68c61c63984bf996b966231f608a08",
            "placeholder": "​",
            "style": "IPY_MODEL_0ff3e4ff029f4c228c15cea24eac8064",
            "value": "Downloading: 100%"
          }
        },
        "964cb72bc97e477087977c965187809f": {
          "model_module": "@jupyter-widgets/controls",
          "model_name": "FloatProgressModel",
          "model_module_version": "1.5.0",
          "state": {
            "_dom_classes": [],
            "_model_module": "@jupyter-widgets/controls",
            "_model_module_version": "1.5.0",
            "_model_name": "FloatProgressModel",
            "_view_count": null,
            "_view_module": "@jupyter-widgets/controls",
            "_view_module_version": "1.5.0",
            "_view_name": "ProgressView",
            "bar_style": "success",
            "description": "",
            "description_tooltip": null,
            "layout": "IPY_MODEL_337fd58ecd514464b15635d064e7c14b",
            "max": 545,
            "min": 0,
            "orientation": "horizontal",
            "style": "IPY_MODEL_4abc2ff229f1433db4ebdda208eda689",
            "value": 545
          }
        },
        "3a387836df404ab6b40206c27674dafe": {
          "model_module": "@jupyter-widgets/controls",
          "model_name": "HTMLModel",
          "model_module_version": "1.5.0",
          "state": {
            "_dom_classes": [],
            "_model_module": "@jupyter-widgets/controls",
            "_model_module_version": "1.5.0",
            "_model_name": "HTMLModel",
            "_view_count": null,
            "_view_module": "@jupyter-widgets/controls",
            "_view_module_version": "1.5.0",
            "_view_name": "HTMLView",
            "description": "",
            "description_tooltip": null,
            "layout": "IPY_MODEL_e8c4fb8e348a48f598b465b8adc03461",
            "placeholder": "​",
            "style": "IPY_MODEL_1e8fcc66f34a4c288629732573cb3a3d",
            "value": " 545/545 [00:00&lt;00:00, 20.8kB/s]"
          }
        },
        "b178b088f28b43c4bc4cc8e0c45cf5b2": {
          "model_module": "@jupyter-widgets/base",
          "model_name": "LayoutModel",
          "model_module_version": "1.2.0",
          "state": {
            "_model_module": "@jupyter-widgets/base",
            "_model_module_version": "1.2.0",
            "_model_name": "LayoutModel",
            "_view_count": null,
            "_view_module": "@jupyter-widgets/base",
            "_view_module_version": "1.2.0",
            "_view_name": "LayoutView",
            "align_content": null,
            "align_items": null,
            "align_self": null,
            "border": null,
            "bottom": null,
            "display": null,
            "flex": null,
            "flex_flow": null,
            "grid_area": null,
            "grid_auto_columns": null,
            "grid_auto_flow": null,
            "grid_auto_rows": null,
            "grid_column": null,
            "grid_gap": null,
            "grid_row": null,
            "grid_template_areas": null,
            "grid_template_columns": null,
            "grid_template_rows": null,
            "height": null,
            "justify_content": null,
            "justify_items": null,
            "left": null,
            "margin": null,
            "max_height": null,
            "max_width": null,
            "min_height": null,
            "min_width": null,
            "object_fit": null,
            "object_position": null,
            "order": null,
            "overflow": null,
            "overflow_x": null,
            "overflow_y": null,
            "padding": null,
            "right": null,
            "top": null,
            "visibility": null,
            "width": null
          }
        },
        "4a68c61c63984bf996b966231f608a08": {
          "model_module": "@jupyter-widgets/base",
          "model_name": "LayoutModel",
          "model_module_version": "1.2.0",
          "state": {
            "_model_module": "@jupyter-widgets/base",
            "_model_module_version": "1.2.0",
            "_model_name": "LayoutModel",
            "_view_count": null,
            "_view_module": "@jupyter-widgets/base",
            "_view_module_version": "1.2.0",
            "_view_name": "LayoutView",
            "align_content": null,
            "align_items": null,
            "align_self": null,
            "border": null,
            "bottom": null,
            "display": null,
            "flex": null,
            "flex_flow": null,
            "grid_area": null,
            "grid_auto_columns": null,
            "grid_auto_flow": null,
            "grid_auto_rows": null,
            "grid_column": null,
            "grid_gap": null,
            "grid_row": null,
            "grid_template_areas": null,
            "grid_template_columns": null,
            "grid_template_rows": null,
            "height": null,
            "justify_content": null,
            "justify_items": null,
            "left": null,
            "margin": null,
            "max_height": null,
            "max_width": null,
            "min_height": null,
            "min_width": null,
            "object_fit": null,
            "object_position": null,
            "order": null,
            "overflow": null,
            "overflow_x": null,
            "overflow_y": null,
            "padding": null,
            "right": null,
            "top": null,
            "visibility": null,
            "width": null
          }
        },
        "0ff3e4ff029f4c228c15cea24eac8064": {
          "model_module": "@jupyter-widgets/controls",
          "model_name": "DescriptionStyleModel",
          "model_module_version": "1.5.0",
          "state": {
            "_model_module": "@jupyter-widgets/controls",
            "_model_module_version": "1.5.0",
            "_model_name": "DescriptionStyleModel",
            "_view_count": null,
            "_view_module": "@jupyter-widgets/base",
            "_view_module_version": "1.2.0",
            "_view_name": "StyleView",
            "description_width": ""
          }
        },
        "337fd58ecd514464b15635d064e7c14b": {
          "model_module": "@jupyter-widgets/base",
          "model_name": "LayoutModel",
          "model_module_version": "1.2.0",
          "state": {
            "_model_module": "@jupyter-widgets/base",
            "_model_module_version": "1.2.0",
            "_model_name": "LayoutModel",
            "_view_count": null,
            "_view_module": "@jupyter-widgets/base",
            "_view_module_version": "1.2.0",
            "_view_name": "LayoutView",
            "align_content": null,
            "align_items": null,
            "align_self": null,
            "border": null,
            "bottom": null,
            "display": null,
            "flex": null,
            "flex_flow": null,
            "grid_area": null,
            "grid_auto_columns": null,
            "grid_auto_flow": null,
            "grid_auto_rows": null,
            "grid_column": null,
            "grid_gap": null,
            "grid_row": null,
            "grid_template_areas": null,
            "grid_template_columns": null,
            "grid_template_rows": null,
            "height": null,
            "justify_content": null,
            "justify_items": null,
            "left": null,
            "margin": null,
            "max_height": null,
            "max_width": null,
            "min_height": null,
            "min_width": null,
            "object_fit": null,
            "object_position": null,
            "order": null,
            "overflow": null,
            "overflow_x": null,
            "overflow_y": null,
            "padding": null,
            "right": null,
            "top": null,
            "visibility": null,
            "width": null
          }
        },
        "4abc2ff229f1433db4ebdda208eda689": {
          "model_module": "@jupyter-widgets/controls",
          "model_name": "ProgressStyleModel",
          "model_module_version": "1.5.0",
          "state": {
            "_model_module": "@jupyter-widgets/controls",
            "_model_module_version": "1.5.0",
            "_model_name": "ProgressStyleModel",
            "_view_count": null,
            "_view_module": "@jupyter-widgets/base",
            "_view_module_version": "1.2.0",
            "_view_name": "StyleView",
            "bar_color": null,
            "description_width": ""
          }
        },
        "e8c4fb8e348a48f598b465b8adc03461": {
          "model_module": "@jupyter-widgets/base",
          "model_name": "LayoutModel",
          "model_module_version": "1.2.0",
          "state": {
            "_model_module": "@jupyter-widgets/base",
            "_model_module_version": "1.2.0",
            "_model_name": "LayoutModel",
            "_view_count": null,
            "_view_module": "@jupyter-widgets/base",
            "_view_module_version": "1.2.0",
            "_view_name": "LayoutView",
            "align_content": null,
            "align_items": null,
            "align_self": null,
            "border": null,
            "bottom": null,
            "display": null,
            "flex": null,
            "flex_flow": null,
            "grid_area": null,
            "grid_auto_columns": null,
            "grid_auto_flow": null,
            "grid_auto_rows": null,
            "grid_column": null,
            "grid_gap": null,
            "grid_row": null,
            "grid_template_areas": null,
            "grid_template_columns": null,
            "grid_template_rows": null,
            "height": null,
            "justify_content": null,
            "justify_items": null,
            "left": null,
            "margin": null,
            "max_height": null,
            "max_width": null,
            "min_height": null,
            "min_width": null,
            "object_fit": null,
            "object_position": null,
            "order": null,
            "overflow": null,
            "overflow_x": null,
            "overflow_y": null,
            "padding": null,
            "right": null,
            "top": null,
            "visibility": null,
            "width": null
          }
        },
        "1e8fcc66f34a4c288629732573cb3a3d": {
          "model_module": "@jupyter-widgets/controls",
          "model_name": "DescriptionStyleModel",
          "model_module_version": "1.5.0",
          "state": {
            "_model_module": "@jupyter-widgets/controls",
            "_model_module_version": "1.5.0",
            "_model_name": "DescriptionStyleModel",
            "_view_count": null,
            "_view_module": "@jupyter-widgets/base",
            "_view_module_version": "1.2.0",
            "_view_name": "StyleView",
            "description_width": ""
          }
        },
        "00811e4e96964e2c9ac98f0189b47dec": {
          "model_module": "@jupyter-widgets/controls",
          "model_name": "HBoxModel",
          "model_module_version": "1.5.0",
          "state": {
            "_dom_classes": [],
            "_model_module": "@jupyter-widgets/controls",
            "_model_module_version": "1.5.0",
            "_model_name": "HBoxModel",
            "_view_count": null,
            "_view_module": "@jupyter-widgets/controls",
            "_view_module_version": "1.5.0",
            "_view_name": "HBoxView",
            "box_style": "",
            "children": [
              "IPY_MODEL_4525fc507c5c4069a9e106a78f903888",
              "IPY_MODEL_ca8de913148d473c8e9ecca9c1a28fde",
              "IPY_MODEL_a8317a3425284490bed1f903206a4b1c"
            ],
            "layout": "IPY_MODEL_c7a7ca3998fe48368963a6c15d51744f"
          }
        },
        "4525fc507c5c4069a9e106a78f903888": {
          "model_module": "@jupyter-widgets/controls",
          "model_name": "HTMLModel",
          "model_module_version": "1.5.0",
          "state": {
            "_dom_classes": [],
            "_model_module": "@jupyter-widgets/controls",
            "_model_module_version": "1.5.0",
            "_model_name": "HTMLModel",
            "_view_count": null,
            "_view_module": "@jupyter-widgets/controls",
            "_view_module_version": "1.5.0",
            "_view_name": "HTMLView",
            "description": "",
            "description_tooltip": null,
            "layout": "IPY_MODEL_7f7bfe988f844afc8cf50a2f8d213863",
            "placeholder": "​",
            "style": "IPY_MODEL_9f80ed0374bc4f4092b565cfc24554ab",
            "value": "Downloading: 100%"
          }
        },
        "ca8de913148d473c8e9ecca9c1a28fde": {
          "model_module": "@jupyter-widgets/controls",
          "model_name": "FloatProgressModel",
          "model_module_version": "1.5.0",
          "state": {
            "_dom_classes": [],
            "_model_module": "@jupyter-widgets/controls",
            "_model_module_version": "1.5.0",
            "_model_name": "FloatProgressModel",
            "_view_count": null,
            "_view_module": "@jupyter-widgets/controls",
            "_view_module_version": "1.5.0",
            "_view_name": "ProgressView",
            "bar_style": "success",
            "description": "",
            "description_tooltip": null,
            "layout": "IPY_MODEL_62a7b6cd5c1b4839b6ff96b8214e32a8",
            "max": 272545970,
            "min": 0,
            "orientation": "horizontal",
            "style": "IPY_MODEL_1a8586592bb44c908902dcf4f80e14fb",
            "value": 272545970
          }
        },
        "a8317a3425284490bed1f903206a4b1c": {
          "model_module": "@jupyter-widgets/controls",
          "model_name": "HTMLModel",
          "model_module_version": "1.5.0",
          "state": {
            "_dom_classes": [],
            "_model_module": "@jupyter-widgets/controls",
            "_model_module_version": "1.5.0",
            "_model_name": "HTMLModel",
            "_view_count": null,
            "_view_module": "@jupyter-widgets/controls",
            "_view_module_version": "1.5.0",
            "_view_name": "HTMLView",
            "description": "",
            "description_tooltip": null,
            "layout": "IPY_MODEL_947d1553568444caa143c098dc7c897e",
            "placeholder": "​",
            "style": "IPY_MODEL_9a050c8d77d7401a889dd1edbf0141f4",
            "value": " 273M/273M [00:04&lt;00:00, 59.3MB/s]"
          }
        },
        "c7a7ca3998fe48368963a6c15d51744f": {
          "model_module": "@jupyter-widgets/base",
          "model_name": "LayoutModel",
          "model_module_version": "1.2.0",
          "state": {
            "_model_module": "@jupyter-widgets/base",
            "_model_module_version": "1.2.0",
            "_model_name": "LayoutModel",
            "_view_count": null,
            "_view_module": "@jupyter-widgets/base",
            "_view_module_version": "1.2.0",
            "_view_name": "LayoutView",
            "align_content": null,
            "align_items": null,
            "align_self": null,
            "border": null,
            "bottom": null,
            "display": null,
            "flex": null,
            "flex_flow": null,
            "grid_area": null,
            "grid_auto_columns": null,
            "grid_auto_flow": null,
            "grid_auto_rows": null,
            "grid_column": null,
            "grid_gap": null,
            "grid_row": null,
            "grid_template_areas": null,
            "grid_template_columns": null,
            "grid_template_rows": null,
            "height": null,
            "justify_content": null,
            "justify_items": null,
            "left": null,
            "margin": null,
            "max_height": null,
            "max_width": null,
            "min_height": null,
            "min_width": null,
            "object_fit": null,
            "object_position": null,
            "order": null,
            "overflow": null,
            "overflow_x": null,
            "overflow_y": null,
            "padding": null,
            "right": null,
            "top": null,
            "visibility": null,
            "width": null
          }
        },
        "7f7bfe988f844afc8cf50a2f8d213863": {
          "model_module": "@jupyter-widgets/base",
          "model_name": "LayoutModel",
          "model_module_version": "1.2.0",
          "state": {
            "_model_module": "@jupyter-widgets/base",
            "_model_module_version": "1.2.0",
            "_model_name": "LayoutModel",
            "_view_count": null,
            "_view_module": "@jupyter-widgets/base",
            "_view_module_version": "1.2.0",
            "_view_name": "LayoutView",
            "align_content": null,
            "align_items": null,
            "align_self": null,
            "border": null,
            "bottom": null,
            "display": null,
            "flex": null,
            "flex_flow": null,
            "grid_area": null,
            "grid_auto_columns": null,
            "grid_auto_flow": null,
            "grid_auto_rows": null,
            "grid_column": null,
            "grid_gap": null,
            "grid_row": null,
            "grid_template_areas": null,
            "grid_template_columns": null,
            "grid_template_rows": null,
            "height": null,
            "justify_content": null,
            "justify_items": null,
            "left": null,
            "margin": null,
            "max_height": null,
            "max_width": null,
            "min_height": null,
            "min_width": null,
            "object_fit": null,
            "object_position": null,
            "order": null,
            "overflow": null,
            "overflow_x": null,
            "overflow_y": null,
            "padding": null,
            "right": null,
            "top": null,
            "visibility": null,
            "width": null
          }
        },
        "9f80ed0374bc4f4092b565cfc24554ab": {
          "model_module": "@jupyter-widgets/controls",
          "model_name": "DescriptionStyleModel",
          "model_module_version": "1.5.0",
          "state": {
            "_model_module": "@jupyter-widgets/controls",
            "_model_module_version": "1.5.0",
            "_model_name": "DescriptionStyleModel",
            "_view_count": null,
            "_view_module": "@jupyter-widgets/base",
            "_view_module_version": "1.2.0",
            "_view_name": "StyleView",
            "description_width": ""
          }
        },
        "62a7b6cd5c1b4839b6ff96b8214e32a8": {
          "model_module": "@jupyter-widgets/base",
          "model_name": "LayoutModel",
          "model_module_version": "1.2.0",
          "state": {
            "_model_module": "@jupyter-widgets/base",
            "_model_module_version": "1.2.0",
            "_model_name": "LayoutModel",
            "_view_count": null,
            "_view_module": "@jupyter-widgets/base",
            "_view_module_version": "1.2.0",
            "_view_name": "LayoutView",
            "align_content": null,
            "align_items": null,
            "align_self": null,
            "border": null,
            "bottom": null,
            "display": null,
            "flex": null,
            "flex_flow": null,
            "grid_area": null,
            "grid_auto_columns": null,
            "grid_auto_flow": null,
            "grid_auto_rows": null,
            "grid_column": null,
            "grid_gap": null,
            "grid_row": null,
            "grid_template_areas": null,
            "grid_template_columns": null,
            "grid_template_rows": null,
            "height": null,
            "justify_content": null,
            "justify_items": null,
            "left": null,
            "margin": null,
            "max_height": null,
            "max_width": null,
            "min_height": null,
            "min_width": null,
            "object_fit": null,
            "object_position": null,
            "order": null,
            "overflow": null,
            "overflow_x": null,
            "overflow_y": null,
            "padding": null,
            "right": null,
            "top": null,
            "visibility": null,
            "width": null
          }
        },
        "1a8586592bb44c908902dcf4f80e14fb": {
          "model_module": "@jupyter-widgets/controls",
          "model_name": "ProgressStyleModel",
          "model_module_version": "1.5.0",
          "state": {
            "_model_module": "@jupyter-widgets/controls",
            "_model_module_version": "1.5.0",
            "_model_name": "ProgressStyleModel",
            "_view_count": null,
            "_view_module": "@jupyter-widgets/base",
            "_view_module_version": "1.2.0",
            "_view_name": "StyleView",
            "bar_color": null,
            "description_width": ""
          }
        },
        "947d1553568444caa143c098dc7c897e": {
          "model_module": "@jupyter-widgets/base",
          "model_name": "LayoutModel",
          "model_module_version": "1.2.0",
          "state": {
            "_model_module": "@jupyter-widgets/base",
            "_model_module_version": "1.2.0",
            "_model_name": "LayoutModel",
            "_view_count": null,
            "_view_module": "@jupyter-widgets/base",
            "_view_module_version": "1.2.0",
            "_view_name": "LayoutView",
            "align_content": null,
            "align_items": null,
            "align_self": null,
            "border": null,
            "bottom": null,
            "display": null,
            "flex": null,
            "flex_flow": null,
            "grid_area": null,
            "grid_auto_columns": null,
            "grid_auto_flow": null,
            "grid_auto_rows": null,
            "grid_column": null,
            "grid_gap": null,
            "grid_row": null,
            "grid_template_areas": null,
            "grid_template_columns": null,
            "grid_template_rows": null,
            "height": null,
            "justify_content": null,
            "justify_items": null,
            "left": null,
            "margin": null,
            "max_height": null,
            "max_width": null,
            "min_height": null,
            "min_width": null,
            "object_fit": null,
            "object_position": null,
            "order": null,
            "overflow": null,
            "overflow_x": null,
            "overflow_y": null,
            "padding": null,
            "right": null,
            "top": null,
            "visibility": null,
            "width": null
          }
        },
        "9a050c8d77d7401a889dd1edbf0141f4": {
          "model_module": "@jupyter-widgets/controls",
          "model_name": "DescriptionStyleModel",
          "model_module_version": "1.5.0",
          "state": {
            "_model_module": "@jupyter-widgets/controls",
            "_model_module_version": "1.5.0",
            "_model_name": "DescriptionStyleModel",
            "_view_count": null,
            "_view_module": "@jupyter-widgets/base",
            "_view_module_version": "1.2.0",
            "_view_name": "StyleView",
            "description_width": ""
          }
        },
        "c4d516d0837e4ebe9ae149a79bf238ed": {
          "model_module": "@jupyter-widgets/controls",
          "model_name": "HBoxModel",
          "model_module_version": "1.5.0",
          "state": {
            "_dom_classes": [],
            "_model_module": "@jupyter-widgets/controls",
            "_model_module_version": "1.5.0",
            "_model_name": "HBoxModel",
            "_view_count": null,
            "_view_module": "@jupyter-widgets/controls",
            "_view_module_version": "1.5.0",
            "_view_name": "HBoxView",
            "box_style": "",
            "children": [
              "IPY_MODEL_5ab93c1b6a7d472f96e767ede8ca619b",
              "IPY_MODEL_d000ec915d68452e86b22daea842ab2e",
              "IPY_MODEL_5475967c913349809f1036042775be3a"
            ],
            "layout": "IPY_MODEL_c782ce5ba9ca4659b447bd21354fc242"
          }
        },
        "5ab93c1b6a7d472f96e767ede8ca619b": {
          "model_module": "@jupyter-widgets/controls",
          "model_name": "HTMLModel",
          "model_module_version": "1.5.0",
          "state": {
            "_dom_classes": [],
            "_model_module": "@jupyter-widgets/controls",
            "_model_module_version": "1.5.0",
            "_model_name": "HTMLModel",
            "_view_count": null,
            "_view_module": "@jupyter-widgets/controls",
            "_view_module_version": "1.5.0",
            "_view_name": "HTMLView",
            "description": "",
            "description_tooltip": null,
            "layout": "IPY_MODEL_7bfde5bddfe0456ca06579b51dddcf4e",
            "placeholder": "​",
            "style": "IPY_MODEL_c77bf1634e7f47908ff56685a85d3943",
            "value": "Downloading builder script: 100%"
          }
        },
        "d000ec915d68452e86b22daea842ab2e": {
          "model_module": "@jupyter-widgets/controls",
          "model_name": "FloatProgressModel",
          "model_module_version": "1.5.0",
          "state": {
            "_dom_classes": [],
            "_model_module": "@jupyter-widgets/controls",
            "_model_module_version": "1.5.0",
            "_model_name": "FloatProgressModel",
            "_view_count": null,
            "_view_module": "@jupyter-widgets/controls",
            "_view_module_version": "1.5.0",
            "_view_name": "ProgressView",
            "bar_style": "success",
            "description": "",
            "description_tooltip": null,
            "layout": "IPY_MODEL_7af080bb771c4b9d9065a206d4b8d9a7",
            "max": 6771,
            "min": 0,
            "orientation": "horizontal",
            "style": "IPY_MODEL_4b56c89dbc04415b875478af28a45229",
            "value": 6771
          }
        },
        "5475967c913349809f1036042775be3a": {
          "model_module": "@jupyter-widgets/controls",
          "model_name": "HTMLModel",
          "model_module_version": "1.5.0",
          "state": {
            "_dom_classes": [],
            "_model_module": "@jupyter-widgets/controls",
            "_model_module_version": "1.5.0",
            "_model_name": "HTMLModel",
            "_view_count": null,
            "_view_module": "@jupyter-widgets/controls",
            "_view_module_version": "1.5.0",
            "_view_name": "HTMLView",
            "description": "",
            "description_tooltip": null,
            "layout": "IPY_MODEL_61a855ed6f394f4dbb349d92c22e175c",
            "placeholder": "​",
            "style": "IPY_MODEL_9cfdd415de9049bdbaf4f7846e6216e2",
            "value": " 6.77k/6.77k [00:00&lt;00:00, 246kB/s]"
          }
        },
        "c782ce5ba9ca4659b447bd21354fc242": {
          "model_module": "@jupyter-widgets/base",
          "model_name": "LayoutModel",
          "model_module_version": "1.2.0",
          "state": {
            "_model_module": "@jupyter-widgets/base",
            "_model_module_version": "1.2.0",
            "_model_name": "LayoutModel",
            "_view_count": null,
            "_view_module": "@jupyter-widgets/base",
            "_view_module_version": "1.2.0",
            "_view_name": "LayoutView",
            "align_content": null,
            "align_items": null,
            "align_self": null,
            "border": null,
            "bottom": null,
            "display": null,
            "flex": null,
            "flex_flow": null,
            "grid_area": null,
            "grid_auto_columns": null,
            "grid_auto_flow": null,
            "grid_auto_rows": null,
            "grid_column": null,
            "grid_gap": null,
            "grid_row": null,
            "grid_template_areas": null,
            "grid_template_columns": null,
            "grid_template_rows": null,
            "height": null,
            "justify_content": null,
            "justify_items": null,
            "left": null,
            "margin": null,
            "max_height": null,
            "max_width": null,
            "min_height": null,
            "min_width": null,
            "object_fit": null,
            "object_position": null,
            "order": null,
            "overflow": null,
            "overflow_x": null,
            "overflow_y": null,
            "padding": null,
            "right": null,
            "top": null,
            "visibility": null,
            "width": null
          }
        },
        "7bfde5bddfe0456ca06579b51dddcf4e": {
          "model_module": "@jupyter-widgets/base",
          "model_name": "LayoutModel",
          "model_module_version": "1.2.0",
          "state": {
            "_model_module": "@jupyter-widgets/base",
            "_model_module_version": "1.2.0",
            "_model_name": "LayoutModel",
            "_view_count": null,
            "_view_module": "@jupyter-widgets/base",
            "_view_module_version": "1.2.0",
            "_view_name": "LayoutView",
            "align_content": null,
            "align_items": null,
            "align_self": null,
            "border": null,
            "bottom": null,
            "display": null,
            "flex": null,
            "flex_flow": null,
            "grid_area": null,
            "grid_auto_columns": null,
            "grid_auto_flow": null,
            "grid_auto_rows": null,
            "grid_column": null,
            "grid_gap": null,
            "grid_row": null,
            "grid_template_areas": null,
            "grid_template_columns": null,
            "grid_template_rows": null,
            "height": null,
            "justify_content": null,
            "justify_items": null,
            "left": null,
            "margin": null,
            "max_height": null,
            "max_width": null,
            "min_height": null,
            "min_width": null,
            "object_fit": null,
            "object_position": null,
            "order": null,
            "overflow": null,
            "overflow_x": null,
            "overflow_y": null,
            "padding": null,
            "right": null,
            "top": null,
            "visibility": null,
            "width": null
          }
        },
        "c77bf1634e7f47908ff56685a85d3943": {
          "model_module": "@jupyter-widgets/controls",
          "model_name": "DescriptionStyleModel",
          "model_module_version": "1.5.0",
          "state": {
            "_model_module": "@jupyter-widgets/controls",
            "_model_module_version": "1.5.0",
            "_model_name": "DescriptionStyleModel",
            "_view_count": null,
            "_view_module": "@jupyter-widgets/base",
            "_view_module_version": "1.2.0",
            "_view_name": "StyleView",
            "description_width": ""
          }
        },
        "7af080bb771c4b9d9065a206d4b8d9a7": {
          "model_module": "@jupyter-widgets/base",
          "model_name": "LayoutModel",
          "model_module_version": "1.2.0",
          "state": {
            "_model_module": "@jupyter-widgets/base",
            "_model_module_version": "1.2.0",
            "_model_name": "LayoutModel",
            "_view_count": null,
            "_view_module": "@jupyter-widgets/base",
            "_view_module_version": "1.2.0",
            "_view_name": "LayoutView",
            "align_content": null,
            "align_items": null,
            "align_self": null,
            "border": null,
            "bottom": null,
            "display": null,
            "flex": null,
            "flex_flow": null,
            "grid_area": null,
            "grid_auto_columns": null,
            "grid_auto_flow": null,
            "grid_auto_rows": null,
            "grid_column": null,
            "grid_gap": null,
            "grid_row": null,
            "grid_template_areas": null,
            "grid_template_columns": null,
            "grid_template_rows": null,
            "height": null,
            "justify_content": null,
            "justify_items": null,
            "left": null,
            "margin": null,
            "max_height": null,
            "max_width": null,
            "min_height": null,
            "min_width": null,
            "object_fit": null,
            "object_position": null,
            "order": null,
            "overflow": null,
            "overflow_x": null,
            "overflow_y": null,
            "padding": null,
            "right": null,
            "top": null,
            "visibility": null,
            "width": null
          }
        },
        "4b56c89dbc04415b875478af28a45229": {
          "model_module": "@jupyter-widgets/controls",
          "model_name": "ProgressStyleModel",
          "model_module_version": "1.5.0",
          "state": {
            "_model_module": "@jupyter-widgets/controls",
            "_model_module_version": "1.5.0",
            "_model_name": "ProgressStyleModel",
            "_view_count": null,
            "_view_module": "@jupyter-widgets/base",
            "_view_module_version": "1.2.0",
            "_view_name": "StyleView",
            "bar_color": null,
            "description_width": ""
          }
        },
        "61a855ed6f394f4dbb349d92c22e175c": {
          "model_module": "@jupyter-widgets/base",
          "model_name": "LayoutModel",
          "model_module_version": "1.2.0",
          "state": {
            "_model_module": "@jupyter-widgets/base",
            "_model_module_version": "1.2.0",
            "_model_name": "LayoutModel",
            "_view_count": null,
            "_view_module": "@jupyter-widgets/base",
            "_view_module_version": "1.2.0",
            "_view_name": "LayoutView",
            "align_content": null,
            "align_items": null,
            "align_self": null,
            "border": null,
            "bottom": null,
            "display": null,
            "flex": null,
            "flex_flow": null,
            "grid_area": null,
            "grid_auto_columns": null,
            "grid_auto_flow": null,
            "grid_auto_rows": null,
            "grid_column": null,
            "grid_gap": null,
            "grid_row": null,
            "grid_template_areas": null,
            "grid_template_columns": null,
            "grid_template_rows": null,
            "height": null,
            "justify_content": null,
            "justify_items": null,
            "left": null,
            "margin": null,
            "max_height": null,
            "max_width": null,
            "min_height": null,
            "min_width": null,
            "object_fit": null,
            "object_position": null,
            "order": null,
            "overflow": null,
            "overflow_x": null,
            "overflow_y": null,
            "padding": null,
            "right": null,
            "top": null,
            "visibility": null,
            "width": null
          }
        },
        "9cfdd415de9049bdbaf4f7846e6216e2": {
          "model_module": "@jupyter-widgets/controls",
          "model_name": "DescriptionStyleModel",
          "model_module_version": "1.5.0",
          "state": {
            "_model_module": "@jupyter-widgets/controls",
            "_model_module_version": "1.5.0",
            "_model_name": "DescriptionStyleModel",
            "_view_count": null,
            "_view_module": "@jupyter-widgets/base",
            "_view_module_version": "1.2.0",
            "_view_name": "StyleView",
            "description_width": ""
          }
        }
      }
    }
  },
  "nbformat": 4,
  "nbformat_minor": 5
}